{
  "cells": [
    {
      "attachments": {},
      "cell_type": "markdown",
      "metadata": {},
      "source": [
        "__authors__: Bruno Limon, Carlo Volpe, Chiara Menchetti, Davide Di Virgilio\n",
        "\n",
        "___\n",
        "\n",
        "## Classification"
      ]
    },
    {
      "cell_type": "markdown",
      "metadata": {
        "id": "xPW9p9LTtC32"
      },
      "source": [
        "Preparing data and imports"
      ]
    },
    {
      "cell_type": "code",
      "execution_count": 1,
      "metadata": {
        "id": "SjOMItFlY9DK"
      },
      "outputs": [],
      "source": [
        "import pandas as pd\n",
        "import numpy as np\n",
        "import seaborn as sns\n",
        "import matplotlib.pyplot as plt\n",
        "\n",
        "from sklearn.feature_extraction.text import TfidfVectorizer, CountVectorizer\n",
        "from sklearn.model_selection import KFold, cross_validate, cross_val_score, cross_val_predict, train_test_split, GridSearchCV, RandomizedSearchCV, StratifiedKFold, learning_curve\n",
        "from imblearn.under_sampling import RandomUnderSampler\n",
        "from sklearn.metrics import accuracy_score, f1_score, classification_report, confusion_matrix, plot_confusion_matrix, roc_curve, auc, roc_auc_score, make_scorer\n",
        "from sklearn.metrics import precision_recall_curve, precision_score, recall_score, PrecisionRecallDisplay, plot_precision_recall_curve\n",
        "\n",
        "from sklearn.neural_network import MLPClassifier\n",
        "from sklearn.linear_model import LogisticRegression, PassiveAggressiveClassifier\n",
        "from sklearn.svm import LinearSVC\n",
        "from sklearn.neighbors import KNeighborsClassifier\n",
        "from sklearn.tree import DecisionTreeClassifier"
      ]
    },
    {
      "cell_type": "code",
      "execution_count": 3,
      "metadata": {
        "colab": {
          "base_uri": "https://localhost:8080/",
          "height": 206
        },
        "id": "RJIQ5j0pkcns",
        "outputId": "1cbd8ee4-0d81-4f88-ca67-dfdb54f9c906"
      },
      "outputs": [
        {
          "data": {
            "text/html": [
              "\n",
              "  <div id=\"df-2dfe4c88-3e41-4db1-aa8e-54eab9a3297b\">\n",
              "    <div class=\"colab-df-container\">\n",
              "      <div>\n",
              "<style scoped>\n",
              "    .dataframe tbody tr th:only-of-type {\n",
              "        vertical-align: middle;\n",
              "    }\n",
              "\n",
              "    .dataframe tbody tr th {\n",
              "        vertical-align: top;\n",
              "    }\n",
              "\n",
              "    .dataframe thead th {\n",
              "        text-align: right;\n",
              "    }\n",
              "</style>\n",
              "<table border=\"1\" class=\"dataframe\">\n",
              "  <thead>\n",
              "    <tr style=\"text-align: right;\">\n",
              "      <th></th>\n",
              "      <th>content</th>\n",
              "      <th>fake</th>\n",
              "    </tr>\n",
              "  </thead>\n",
              "  <tbody>\n",
              "    <tr>\n",
              "      <th>0</th>\n",
              "      <td>what we can learn from the resurgence of covid...</td>\n",
              "      <td>0</td>\n",
              "    </tr>\n",
              "    <tr>\n",
              "      <th>1</th>\n",
              "      <td>why approving a covid 19 vaccine too early cou...</td>\n",
              "      <td>0</td>\n",
              "    </tr>\n",
              "    <tr>\n",
              "      <th>2</th>\n",
              "      <td>not sure you have covid 19 here are the sympto...</td>\n",
              "      <td>0</td>\n",
              "    </tr>\n",
              "    <tr>\n",
              "      <th>3</th>\n",
              "      <td>flu study highlights difficulty of achieving c...</td>\n",
              "      <td>0</td>\n",
              "    </tr>\n",
              "    <tr>\n",
              "      <th>4</th>\n",
              "      <td>resign or return the dilemma facing classroom ...</td>\n",
              "      <td>0</td>\n",
              "    </tr>\n",
              "  </tbody>\n",
              "</table>\n",
              "</div>\n",
              "      <button class=\"colab-df-convert\" onclick=\"convertToInteractive('df-2dfe4c88-3e41-4db1-aa8e-54eab9a3297b')\"\n",
              "              title=\"Convert this dataframe to an interactive table.\"\n",
              "              style=\"display:none;\">\n",
              "        \n",
              "  <svg xmlns=\"http://www.w3.org/2000/svg\" height=\"24px\"viewBox=\"0 0 24 24\"\n",
              "       width=\"24px\">\n",
              "    <path d=\"M0 0h24v24H0V0z\" fill=\"none\"/>\n",
              "    <path d=\"M18.56 5.44l.94 2.06.94-2.06 2.06-.94-2.06-.94-.94-2.06-.94 2.06-2.06.94zm-11 1L8.5 8.5l.94-2.06 2.06-.94-2.06-.94L8.5 2.5l-.94 2.06-2.06.94zm10 10l.94 2.06.94-2.06 2.06-.94-2.06-.94-.94-2.06-.94 2.06-2.06.94z\"/><path d=\"M17.41 7.96l-1.37-1.37c-.4-.4-.92-.59-1.43-.59-.52 0-1.04.2-1.43.59L10.3 9.45l-7.72 7.72c-.78.78-.78 2.05 0 2.83L4 21.41c.39.39.9.59 1.41.59.51 0 1.02-.2 1.41-.59l7.78-7.78 2.81-2.81c.8-.78.8-2.07 0-2.86zM5.41 20L4 18.59l7.72-7.72 1.47 1.35L5.41 20z\"/>\n",
              "  </svg>\n",
              "      </button>\n",
              "      \n",
              "  <style>\n",
              "    .colab-df-container {\n",
              "      display:flex;\n",
              "      flex-wrap:wrap;\n",
              "      gap: 12px;\n",
              "    }\n",
              "\n",
              "    .colab-df-convert {\n",
              "      background-color: #E8F0FE;\n",
              "      border: none;\n",
              "      border-radius: 50%;\n",
              "      cursor: pointer;\n",
              "      display: none;\n",
              "      fill: #1967D2;\n",
              "      height: 32px;\n",
              "      padding: 0 0 0 0;\n",
              "      width: 32px;\n",
              "    }\n",
              "\n",
              "    .colab-df-convert:hover {\n",
              "      background-color: #E2EBFA;\n",
              "      box-shadow: 0px 1px 2px rgba(60, 64, 67, 0.3), 0px 1px 3px 1px rgba(60, 64, 67, 0.15);\n",
              "      fill: #174EA6;\n",
              "    }\n",
              "\n",
              "    [theme=dark] .colab-df-convert {\n",
              "      background-color: #3B4455;\n",
              "      fill: #D2E3FC;\n",
              "    }\n",
              "\n",
              "    [theme=dark] .colab-df-convert:hover {\n",
              "      background-color: #434B5C;\n",
              "      box-shadow: 0px 1px 3px 1px rgba(0, 0, 0, 0.15);\n",
              "      filter: drop-shadow(0px 1px 2px rgba(0, 0, 0, 0.3));\n",
              "      fill: #FFFFFF;\n",
              "    }\n",
              "  </style>\n",
              "\n",
              "      <script>\n",
              "        const buttonEl =\n",
              "          document.querySelector('#df-2dfe4c88-3e41-4db1-aa8e-54eab9a3297b button.colab-df-convert');\n",
              "        buttonEl.style.display =\n",
              "          google.colab.kernel.accessAllowed ? 'block' : 'none';\n",
              "\n",
              "        async function convertToInteractive(key) {\n",
              "          const element = document.querySelector('#df-2dfe4c88-3e41-4db1-aa8e-54eab9a3297b');\n",
              "          const dataTable =\n",
              "            await google.colab.kernel.invokeFunction('convertToInteractive',\n",
              "                                                     [key], {});\n",
              "          if (!dataTable) return;\n",
              "\n",
              "          const docLinkHtml = 'Like what you see? Visit the ' +\n",
              "            '<a target=\"_blank\" href=https://colab.research.google.com/notebooks/data_table.ipynb>data table notebook</a>'\n",
              "            + ' to learn more about interactive tables.';\n",
              "          element.innerHTML = '';\n",
              "          dataTable['output_type'] = 'display_data';\n",
              "          await google.colab.output.renderOutput(dataTable, element);\n",
              "          const docLink = document.createElement('div');\n",
              "          docLink.innerHTML = docLinkHtml;\n",
              "          element.appendChild(docLink);\n",
              "        }\n",
              "      </script>\n",
              "    </div>\n",
              "  </div>\n",
              "  "
            ],
            "text/plain": [
              "                                             content  fake\n",
              "0  what we can learn from the resurgence of covid...     0\n",
              "1  why approving a covid 19 vaccine too early cou...     0\n",
              "2  not sure you have covid 19 here are the sympto...     0\n",
              "3  flu study highlights difficulty of achieving c...     0\n",
              "4  resign or return the dilemma facing classroom ...     0"
            ]
          },
          "execution_count": 3,
          "metadata": {},
          "output_type": "execute_result"
        }
      ],
      "source": [
        "data = pd.read_csv('df_without_duplicates.csv') \n",
        "data.head(5)"
      ]
    },
    {
      "cell_type": "markdown",
      "metadata": {
        "id": "m9nSeUzatGnJ"
      },
      "source": [
        "Data preprocessing\n",
        "\n",
        "Applying word embedding with the help of SKlearn's fucntion 'TFidfVectorizer', which turns a collection a documents, in this case, news articles, into a sparse matrix containing the vectors that represent the words in the document and their context and meaning"
      ]
    },
    {
      "cell_type": "code",
      "execution_count": 45,
      "metadata": {
        "id": "7mm2CSUGkcjU"
      },
      "outputs": [],
      "source": [
        "X = data['content']\n",
        "y = data['fake']"
      ]
    },
    {
      "cell_type": "code",
      "execution_count": 46,
      "metadata": {
        "colab": {
          "base_uri": "https://localhost:8080/"
        },
        "id": "sNv6B8E_kcTk",
        "outputId": "d24f15fa-2e27-40a7-b29e-bf7be45b8c3b"
      },
      "outputs": [
        {
          "name": "stdout",
          "output_type": "stream",
          "text": [
            "(array([0, 1]), array([45046,  1630]))\n"
          ]
        },
        {
          "data": {
            "text/plain": [
              "<46676x25263 sparse matrix of type '<class 'numpy.float64'>'\n",
              "\twith 881245 stored elements in Compressed Sparse Row format>"
            ]
          },
          "execution_count": 46,
          "metadata": {},
          "output_type": "execute_result"
        }
      ],
      "source": [
        "X_train, X_test, y_train, y_test = train_test_split(X, y, stratify = y, test_size=0.3, random_state=0)\n",
        "\n",
        "TFvectorizer = TfidfVectorizer(stop_words='english',\n",
        "                               ngram_range=(1,2),\n",
        "                               max_df=.8,\n",
        "                               min_df=.0001\n",
        "                               )\n",
        "\n",
        "X_train = TFvectorizer.fit_transform(X_train)\n",
        "X_test = TFvectorizer.transform(X_test)\n",
        "\n",
        "# # In case CountVectorizer is preferred\n",
        "# Cntvectorizer = CountVectorizer(stop_words='english',\n",
        "#                                 ngram_range=(1,2),\n",
        "#                                 max_df=.8)\n",
        "\n",
        "# X_train = Cntvectorizer.fit_transform(X_train)\n",
        "# X_test = Cntvectorizer.transform(X_test)\n",
        "\n",
        "# Looking at the distribution of labels in the target variable, as well as info on the X_train matrix\n",
        "print(np.unique(y_train, return_counts=True))\n",
        "X_train"
      ]
    },
    {
      "cell_type": "markdown",
      "metadata": {
        "id": "UsG6rg1nUDnh"
      },
      "source": [
        "Quick-testing a model, to check if the vectorizing phase went well and a classifying model is able to correctly detect fake news. For this, a simple model with the default parameters is used.\n",
        "\n",
        "Aditionally, a classification report is produced together with a confusion matrix, a ROC curve and a Precision-Recall curve to further analyze the performance of the classifying task."
      ]
    },
    {
      "cell_type": "code",
      "execution_count": 47,
      "metadata": {
        "colab": {
          "base_uri": "https://localhost:8080/",
          "height": 536
        },
        "id": "RPWMJbo7D9WZ",
        "outputId": "a6dcfe9d-8c46-4bfb-cd81-c22e4d425fa1"
      },
      "outputs": [
        {
          "name": "stdout",
          "output_type": "stream",
          "text": [
            "0.9818045488627843\n",
            "              precision    recall  f1-score   support\n",
            "\n",
            "           0     0.9816    0.9999    0.9907     19307\n",
            "           1     0.9941    0.4814    0.6486       698\n",
            "\n",
            "    accuracy                         0.9818     20005\n",
            "   macro avg     0.9878    0.7406    0.8197     20005\n",
            "weighted avg     0.9820    0.9818    0.9787     20005\n",
            "\n"
          ]
        },
        {
          "name": "stderr",
          "output_type": "stream",
          "text": [
            "/usr/local/lib/python3.8/dist-packages/sklearn/utils/deprecation.py:87: FutureWarning: Function plot_confusion_matrix is deprecated; Function `plot_confusion_matrix` is deprecated in 1.0 and will be removed in 1.2. Use one of the class methods: ConfusionMatrixDisplay.from_predictions or ConfusionMatrixDisplay.from_estimator.\n",
            "  warnings.warn(msg, category=FutureWarning)\n"
          ]
        },
        {
          "data": {
            "text/plain": [
              "<sklearn.metrics._plot.confusion_matrix.ConfusionMatrixDisplay at 0x7f3c01922ac0>"
            ]
          },
          "execution_count": 47,
          "metadata": {},
          "output_type": "execute_result"
        },
        {
          "data": {
            "image/png": "[encoded data removed]",
            "text/plain": [
              "<Figure size 432x288 with 2 Axes>"
            ]
          },
          "metadata": {
            "needs_background": "light"
          },
          "output_type": "display_data"
        }
      ],
      "source": [
        "clf = KNeighborsClassifier()\n",
        "clf.fit(X_train, y_train)\n",
        "\n",
        "y_pred = clf.predict(X_test)\n",
        "\n",
        "print(accuracy_score(y_test, y_pred))\n",
        "print(classification_report(y_test, y_pred, digits = 4))\n",
        "plot_confusion_matrix(clf, X_test, y_test, cmap='PuBu')"
      ]
    },
    {
      "cell_type": "code",
      "execution_count": 48,
      "metadata": {
        "colab": {
          "base_uri": "https://localhost:8080/",
          "height": 281
        },
        "id": "KExQHMkrSFlT",
        "outputId": "9c005b63-3549-44a1-f3c5-7211b2975597"
      },
      "outputs": [
        {
          "data": {
            "image/png": "[encoded data removed]",
            "text/plain": [
              "<Figure size 432x288 with 1 Axes>"
            ]
          },
          "metadata": {
            "needs_background": "light"
          },
          "output_type": "display_data"
        }
      ],
      "source": [
        "# y_pred_proba = clf._predict_proba_lr(X_test)[::,1]\n",
        "y_pred_proba = clf.predict_proba(X_test)[::,1]\n",
        "fpr, tpr, _ = roc_curve(y_test,  y_pred_proba)\n",
        "auc = roc_auc_score(y_test, y_pred_proba)\n",
        "plt.plot(fpr,tpr,label=\"auc=\"+str(round(auc,4)))\n",
        "plt.legend(loc=4)\n",
        "plt.title('ROC')\n",
        "plt.show()"
      ]
    },
    {
      "cell_type": "code",
      "execution_count": 49,
      "metadata": {
        "colab": {
          "base_uri": "https://localhost:8080/",
          "height": 295
        },
        "id": "3f0_Xw56Tdar",
        "outputId": "0a7f1828-afd0-4086-da3b-29d863a25e5d"
      },
      "outputs": [
        {
          "data": {
            "image/png": "[encoded data removed]",
            "text/plain": [
              "<Figure size 432x288 with 1 Axes>"
            ]
          },
          "metadata": {
            "needs_background": "light"
          },
          "output_type": "display_data"
        }
      ],
      "source": [
        "display = PrecisionRecallDisplay.from_predictions(y_test, y_pred_proba, name=\"\")\n",
        "_ = display.ax_.set_title(\"Precision-Recall curve\")"
      ]
    },
    {
      "cell_type": "markdown",
      "metadata": {
        "id": "UdH0l2Xavewd"
      },
      "source": [
        "Undersampling -  The first attempt at solving the unbalancedness issue with the classification, which, as seen previously, results in poor recall scores, this due to the high number of false negatives produced by the model, which is not entirely able to distinguish when a news article is fake and predicts it as real when in reality it was fake"
      ]
    },
    {
      "cell_type": "code",
      "execution_count": 11,
      "metadata": {
        "colab": {
          "base_uri": "https://localhost:8080/"
        },
        "id": "Wuk_JB4y9DYv",
        "outputId": "94645ae3-3e54-4901-8155-bf95f89e4911"
      },
      "outputs": [
        {
          "data": {
            "text/plain": [
              "(array([0, 1]), array([16300,  1630]))"
            ]
          },
          "execution_count": 11,
          "metadata": {},
          "output_type": "execute_result"
        }
      ],
      "source": [
        "# RUS with sampling strategy = .1 to have a proportion of 1/10 with respect to the majority class\n",
        "rus = RandomUnderSampler(sampling_strategy=0.1, random_state=42)\n",
        "X_train, y_train = rus.fit_resample(X_train, y_train)\n",
        "\n",
        "np.unique(y_train, return_counts=True)"
      ]
    },
    {
      "cell_type": "markdown",
      "metadata": {
        "id": "NgDKTRABs92C"
      },
      "source": [
        "Testing several different models with cross-validation, to see if other models perform better regarding false negatives, and thus, the recall score. To evaluate them, a 10-fold cross validation approach is used to further avoid the unwanted introudction of bias to the model, expecting that the model fits the data well enough.\n",
        "\n",
        "After this evaluation, the precision recall curve, along with a plot to visualize their different metrics is produced."
      ]
    },
    {
      "cell_type": "code",
      "execution_count": 41,
      "metadata": {
        "id": "k1G5rpKdmakp"
      },
      "outputs": [],
      "source": [
        "# Initializing the models to test\n",
        "model_dt = DecisionTreeClassifier()\n",
        "model_logreg = LogisticRegression()\n",
        "model_linsvc = LinearSVC()\n",
        "model_knn = KNeighborsClassifier()\n",
        "model_paa = PassiveAggressiveClassifier()\n",
        "\n",
        "# Creating a dictionary with the models and their name to feed to the cross-validation evaluation\n",
        "models = {\n",
        "    'Decision Tree': model_dt,\n",
        "    'Logistic Regression': model_logreg,\n",
        "    'Linear SVM': model_linsvc,\n",
        "    'K-NearestNeighbors': model_knn,\n",
        "    'PassiveAgressive': model_paa\n",
        "    }\n",
        "\n",
        "kf = KFold(n_splits=10, shuffle=True, random_state=42)"
      ]
    },
    {
      "cell_type": "code",
      "execution_count": 14,
      "metadata": {
        "colab": {
          "base_uri": "https://localhost:8080/"
        },
        "id": "XbzZhsVsnXqb",
        "outputId": "d2be2270-6d1d-4c03-d4e9-c8c44e6aade5"
      },
      "outputs": [
        {
          "name": "stdout",
          "output_type": "stream",
          "text": [
            "Decision Tree results:\n",
            "Accuracy:  0.9573\n",
            "Precision:  0.7796\n",
            "Recall:  0.7414\n",
            "F1_score:  0.7592 \n",
            "\n",
            "Logistic Regression results:\n",
            "Accuracy:  0.9636\n",
            "Precision:  0.9905\n",
            "Recall:  0.6052\n",
            "F1_score:  0.7508 \n",
            "\n",
            "Linear SVM results:\n",
            "Accuracy:  0.9801\n",
            "Precision:  0.9775\n",
            "Recall:  0.7994\n",
            "F1_score:  0.8792 \n",
            "\n",
            "K-NearestNeighbors results:\n"
          ]
        },
        {
          "name": "stderr",
          "output_type": "stream",
          "text": [
            "/usr/local/lib/python3.8/dist-packages/joblib/externals/loky/process_executor.py:700: UserWarning: A worker stopped while some jobs were given to the executor. This can be caused by a too short worker timeout or by a memory leak.\n",
            "  warnings.warn(\n"
          ]
        },
        {
          "name": "stdout",
          "output_type": "stream",
          "text": [
            "Accuracy:  0.9574\n",
            "Precision:  1.0\n",
            "Recall:  0.5312\n",
            "F1_score:  0.6932 \n",
            "\n",
            "PassiveAgressive results:\n",
            "Accuracy:  0.9807\n",
            "Precision:  0.9454\n",
            "Recall:  0.8362\n",
            "F1_score:  0.8873 \n",
            "\n"
          ]
        }
      ],
      "source": [
        "acc = {}\n",
        "prec = {}\n",
        "rec = {}\n",
        "f1 = {}\n",
        "\n",
        "# Metrics to retrieve after the cross-validation is performed\n",
        "scoring = {'accuracy' : make_scorer(accuracy_score), \n",
        "           'precision' : make_scorer(precision_score),\n",
        "           'recall' : make_scorer(recall_score), \n",
        "           'f1_score' : make_scorer(f1_score)}\n",
        "\n",
        "for name, model in models.items():\n",
        "    print(f\"{name} results:\")\n",
        "    score = cross_validate(model, X_train, y_train, scoring=scoring, cv=kf, n_jobs=-1, verbose=0)\n",
        "    print(\"Accuracy: \", round(score['test_accuracy'].mean(),4))\n",
        "    print(\"Precision: \", round(score['test_precision'].mean(),4))\n",
        "    print(\"Recall: \", round(score['test_recall'].mean(),4))\n",
        "    print(\"F1_score: \", round(score['test_f1_score'].mean(),4), '\\n')\n",
        "\n",
        "    acc[name] = score['test_accuracy'].mean()\n",
        "    prec[name] = score['test_precision'].mean()\n",
        "    rec[name] = score['test_recall'].mean()\n",
        "    f1[name] = score['test_f1_score'].mean()"
      ]
    },
    {
      "cell_type": "code",
      "execution_count": 22,
      "metadata": {
        "colab": {
          "base_uri": "https://localhost:8080/",
          "height": 516
        },
        "id": "x8kGJdPg8SS3",
        "outputId": "4a0e2ad1-08aa-4859-820f-fa3326ba7207"
      },
      "outputs": [
        {
          "name": "stderr",
          "output_type": "stream",
          "text": [
            "/usr/local/lib/python3.8/dist-packages/sklearn/utils/deprecation.py:87: FutureWarning: Function plot_precision_recall_curve is deprecated; Function `plot_precision_recall_curve` is deprecated in 1.0 and will be removed in 1.2. Use one of the class methods: PrecisionRecallDisplay.from_predictions or PrecisionRecallDisplay.from_estimator.\n",
            "  warnings.warn(msg, category=FutureWarning)\n",
            "/usr/local/lib/python3.8/dist-packages/sklearn/utils/deprecation.py:87: FutureWarning: Function plot_precision_recall_curve is deprecated; Function `plot_precision_recall_curve` is deprecated in 1.0 and will be removed in 1.2. Use one of the class methods: PrecisionRecallDisplay.from_predictions or PrecisionRecallDisplay.from_estimator.\n",
            "  warnings.warn(msg, category=FutureWarning)\n",
            "/usr/local/lib/python3.8/dist-packages/sklearn/utils/deprecation.py:87: FutureWarning: Function plot_precision_recall_curve is deprecated; Function `plot_precision_recall_curve` is deprecated in 1.0 and will be removed in 1.2. Use one of the class methods: PrecisionRecallDisplay.from_predictions or PrecisionRecallDisplay.from_estimator.\n",
            "  warnings.warn(msg, category=FutureWarning)\n",
            "/usr/local/lib/python3.8/dist-packages/sklearn/utils/deprecation.py:87: FutureWarning: Function plot_precision_recall_curve is deprecated; Function `plot_precision_recall_curve` is deprecated in 1.0 and will be removed in 1.2. Use one of the class methods: PrecisionRecallDisplay.from_predictions or PrecisionRecallDisplay.from_estimator.\n",
            "  warnings.warn(msg, category=FutureWarning)\n",
            "/usr/local/lib/python3.8/dist-packages/sklearn/utils/deprecation.py:87: FutureWarning: Function plot_precision_recall_curve is deprecated; Function `plot_precision_recall_curve` is deprecated in 1.0 and will be removed in 1.2. Use one of the class methods: PrecisionRecallDisplay.from_predictions or PrecisionRecallDisplay.from_estimator.\n",
            "  warnings.warn(msg, category=FutureWarning)\n"
          ]
        },
        {
          "data": {
            "text/plain": [
              "Text(0.5, 1.0, 'Precision-Recall curve')"
            ]
          },
          "execution_count": 22,
          "metadata": {},
          "output_type": "execute_result"
        },
        {
          "data": {
            "image/png": "[encoded data removed]",
            "text/plain": [
              "<Figure size 432x288 with 1 Axes>"
            ]
          },
          "metadata": {
            "needs_background": "light"
          },
          "output_type": "display_data"
        }
      ],
      "source": [
        "# Plotting the PR curves for every model\n",
        "model_dt.fit(X_train, y_train), model_logreg.fit(X_train, y_train), model_linsvc.fit(X_train, y_train), model_knn.fit(X_train, y_train), model_paa.fit(X_train, y_train)\n",
        "\n",
        "plot_precision_recall_curve(model_dt, X_test, y_test, ax = plt.gca(),name = \"Decision Tree\")\n",
        "plot_precision_recall_curve(model_logreg, X_test, y_test, ax = plt.gca(),name = \"Log Regression\")\n",
        "plot_precision_recall_curve(model_linsvc, X_test, y_test, ax = plt.gca(),name = \"Linear SVM\")\n",
        "plot_precision_recall_curve(model_knn, X_test, y_test, ax = plt.gca(),name = \"kNN\")\n",
        "plot_precision_recall_curve(model_paa, X_test, y_test, ax = plt.gca(),name = \"PAS\")\n",
        "plt.savefig('PR-Curve.png', dpi=600) \n",
        "plt.title('Precision-Recall curve')"
      ]
    },
    {
      "cell_type": "code",
      "execution_count": 21,
      "metadata": {
        "colab": {
          "base_uri": "https://localhost:8080/",
          "height": 1000
        },
        "id": "Ce7aHjvmnfN6",
        "outputId": "9dc57ef7-5e6d-49e0-f558-3403b806b9d9"
      },
      "outputs": [
        {
          "data": {
            "image/png": "[encoded data removed]",
            "text/plain": [
              "<Figure size 576x288 with 1 Axes>"
            ]
          },
          "metadata": {
            "needs_background": "light"
          },
          "output_type": "display_data"
        },
        {
          "data": {
            "image/png": "[encoded data removed]",
            "text/plain": [
              "<Figure size 576x288 with 1 Axes>"
            ]
          },
          "metadata": {
            "needs_background": "light"
          },
          "output_type": "display_data"
        },
        {
          "data": {
            "image/png": "[encoded data removed]",
            "text/plain": [
              "<Figure size 576x288 with 1 Axes>"
            ]
          },
          "metadata": {
            "needs_background": "light"
          },
          "output_type": "display_data"
        },
        {
          "data": {
            "image/png": "[encoded data removed]",
            "text/plain": [
              "<Figure size 576x288 with 1 Axes>"
            ]
          },
          "metadata": {
            "needs_background": "light"
          },
          "output_type": "display_data"
        }
      ],
      "source": [
        "# Visualizing the performance with different metrics using a bar plot\n",
        "plt.figure(figsize=(8,4), tight_layout=True)\n",
        "colors = sns.color_palette('Accent')\n",
        "\n",
        "plt.barh(list(acc.keys()), list(acc.values()), color=colors[1:16])\n",
        "plt.title(\"Cross-validated Accuracy\")\n",
        "plt.xlabel('Accuracy')\n",
        "plt.xticks(np.arange(0, 1.1, .1))\n",
        "plt.savefig('CV-Accuracy.png', dpi=600) \n",
        "plt.show()\n",
        "\n",
        "plt.figure(figsize=(8,4), tight_layout=True)\n",
        "plt.barh(list(prec.keys()), list(prec.values()), color=colors[1:16])\n",
        "plt.title(\"Cross-validated Precision\")\n",
        "plt.xlabel('Precision')\n",
        "plt.xticks(np.arange(0, 1.1, .1))\n",
        "plt.savefig('CV-Precision.png', dpi=600) \n",
        "plt.show()\n",
        "\n",
        "plt.figure(figsize=(8,4), tight_layout=True)\n",
        "plt.barh(list(rec.keys()), list(rec.values()), color=colors[1:16])\n",
        "plt.title(\"Cross-validated Recall\")\n",
        "plt.xlabel('Recall')\n",
        "plt.xticks(np.arange(0, 1.1, .1))\n",
        "plt.savefig('CV-Recall.png', dpi=600) \n",
        "plt.show()\n",
        "\n",
        "plt.figure(figsize=(8,4), tight_layout=True)\n",
        "plt.barh(list(f1.keys()), list(f1.values()), color=colors[1:16])\n",
        "plt.title(\"Cross-validated F1-score\")\n",
        "plt.xlabel('F1-score')\n",
        "plt.xticks(np.arange(0, 1.1, .1))\n",
        "plt.savefig('CV-F1.png', dpi=600) \n",
        "plt.show()"
      ]
    },
    {
      "cell_type": "markdown",
      "metadata": {
        "id": "v4QmYigBPdXk"
      },
      "source": [
        "RandomSearch, used to get a general sense of where the hypertuning for a certain model is directed, testing different combinations of parameters at random while looking for the one that gets the highest score, in this case, recall"
      ]
    },
    {
      "cell_type": "code",
      "execution_count": 21,
      "metadata": {
        "id": "PayGSZlJ0Ry7"
      },
      "outputs": [],
      "source": [
        "# Stating the parameter grids that will be tested with the randomsearch\n",
        "dt_param_grid = {\n",
        "    'criterion': ['gini', 'entropy'], \n",
        "    'max_depth': [2,4,6,8,10,12], \n",
        "    'max_leaf_nodes': [2,4,6,8,10,20,30,40,50,70,90,100], \n",
        "    'min_samples_leaf': [2,3,4,5,7,9,11,16,18], \n",
        "    }\n",
        "\n",
        "logreg_param_grid = {             \n",
        "    #LogisticRegressionCV - http://scikit-learn.org/stable/modules/generated/sklearn.linear_model.LogisticRegressionCV.html#sklearn.linear_model.LogisticRegressionCV\n",
        "    'C': [.1, 1, 5, 10, 30, 50, 70, 90, 110, 130, 150],\n",
        "    'fit_intercept': [True, False], #default: True\n",
        "    'penalty': ['l1','l2'],\n",
        "    'class_weight': ['balanced', None],\n",
        "    'solver': ['liblinear'], #default: lbfgs\n",
        "    }\n",
        "\n",
        "logreg_param_grid2 = {             \n",
        "    #LogisticRegressionCV - http://scikit-learn.org/stable/modules/generated/sklearn.linear_model.LogisticRegressionCV.html#sklearn.linear_model.LogisticRegressionCV\n",
        "    'fit_intercept': [True, False], #default: True\n",
        "    'C': [1, 10, 30, 50, 70, 90, 110, 130, 150],\n",
        "    'penalty': ['l2'],\n",
        "    'class_weight': ['balanced', None],\n",
        "    'dual': [True, False],\n",
        "    'solver': ['liblinear'], #default: lbfgs\n",
        "    }\n",
        "\n",
        "linsvc_param_grid = {\n",
        "    'C': [.001, .01, .05, .1, .2, .6, 1, 1.4, 1.8, 2],\n",
        "    'class_weight': ['balanced', None], \n",
        "    'dual': [True], \n",
        "    'fit_intercept': [False, True], \n",
        "    'loss': ['hinge', 'squared_hinge'], \n",
        "}\n",
        "\n",
        "knn_param_grid = {\n",
        "    #KNeighborsClassifier - http://scikit-learn.org/stable/modules/generated/sklearn.neighbors.KNeighborsClassifier.html#sklearn.neighbors.KNeighborsClassifier\n",
        "    'n_neighbors': [1,3,5,7,9,11,13,15,17,19,21,23,25,27,30], #default: 5\n",
        "    'weights': ['uniform', 'distance'], #default = ‘uniform’\n",
        "    'algorithm': ['auto', 'ball_tree', 'kd_tree', 'brute']\n",
        "    }\n",
        "\n",
        "paa_param_grid = {\n",
        "    'C': [.001, .01, .05, .1, .2, .6, 1, 1.4, 1.8, 2],\n",
        "    'shuffle': [False, True],\n",
        "    'fit_intercept': [False, True], \n",
        "    'class_weight': ['balanced', None],\n",
        "    'loss': ['hinge', 'squared_hinge']\n",
        "}\n",
        "\n",
        "models_params = {\n",
        "    'Decision Tree': [model_dt, dt_param_grid],\n",
        "    'Logistic Regression': [model_logreg, logreg_param_grid],\n",
        "    'Logistic Regression2': [model_logreg, logreg_param_grid2],\n",
        "    'Linear SVC': [model_linsvc, linsvc_param_grid],\n",
        "    'K-NearestNeighbors': [model_knn, knn_param_grid],\n",
        "    'Passive Agressive': [model_paa, paa_param_grid]\n",
        "    }"
      ]
    },
    {
      "cell_type": "code",
      "execution_count": 22,
      "metadata": {
        "colab": {
          "base_uri": "https://localhost:8080/"
        },
        "id": "L6lCMS6k0Rt9",
        "outputId": "79152c22-f095-4efa-9496-12fed611ad58"
      },
      "outputs": [
        {
          "name": "stdout",
          "output_type": "stream",
          "text": [
            "Decision Tree Random search starting\n",
            "Best score (recall):  0.479579731937786\n",
            "Best parameters:  DecisionTreeClassifier(criterion='entropy', max_depth=12, max_leaf_nodes=100,\n",
            "                       min_samples_leaf=16) \n",
            "\n",
            "Logistic Regression Random search starting\n",
            "Best score (recall):  0.8886817919776749\n",
            "Best parameters:  LogisticRegression(C=1, class_weight='balanced', fit_intercept=False,\n",
            "                   penalty='l1', solver='liblinear') \n",
            "\n",
            "Logistic Regression2 Random search starting\n",
            "Best score (recall):  0.8720562066033983\n",
            "Best parameters:  LogisticRegression(C=1, class_weight='balanced', dual=True, solver='liblinear') \n",
            "\n",
            "Linear SVC Random search starting\n",
            "Best score (recall):  0.9008186264264906\n",
            "Best parameters:  LinearSVC(C=0.001, class_weight='balanced', fit_intercept=False, loss='hinge') \n",
            "\n",
            "K-NearestNeighbors Random search starting\n"
          ]
        },
        {
          "name": "stderr",
          "output_type": "stream",
          "text": [
            "/usr/local/lib/python3.8/dist-packages/joblib/externals/loky/process_executor.py:700: UserWarning: A worker stopped while some jobs were given to the executor. This can be caused by a too short worker timeout or by a memory leak.\n",
            "  warnings.warn(\n"
          ]
        },
        {
          "name": "stdout",
          "output_type": "stream",
          "text": [
            "Best score (recall):  0.5207748968267435\n",
            "Best parameters:  KNeighborsClassifier() \n",
            "\n",
            "Passive Agressive Random search starting\n",
            "Best score (recall):  0.8220959163086858\n",
            "Best parameters:  PassiveAggressiveClassifier(C=1, class_weight='balanced') \n",
            "\n"
          ]
        }
      ],
      "source": [
        "best_parameters = {}\n",
        "best_score = {}\n",
        "\n",
        "for name, [model, param] in models_params.items():\n",
        "    print(f'{name} Random search starting')\n",
        "    search = RandomizedSearchCV(estimator = model, \n",
        "                                param_distributions = param, \n",
        "                                n_iter = 10, \n",
        "                                cv = kf, \n",
        "                                verbose=0, \n",
        "                                scoring='recall',\n",
        "                                random_state=42, \n",
        "                                n_jobs = -1).fit(X_train, y_train)\n",
        "    best_parameters[name] = search.best_estimator_\n",
        "    best_score[name] = search.best_score_\n",
        "    print('Best score (recall): ', best_score[name])\n",
        "    print('Best parameters: ', best_parameters[name], '\\n')"
      ]
    },
    {
      "cell_type": "markdown",
      "metadata": {
        "id": "CiGLW68jPgEp"
      },
      "source": [
        "GridSearch, after having a general idea of what parameters work best with each model and discarding the models which seemingly have no possibility of achieving good results, a gridsearch can now be performed to further improve the model performance, gridsearch, differently from randomsearch, tests every possible combination of parameters"
      ]
    },
    {
      "cell_type": "code",
      "execution_count": 42,
      "metadata": {
        "id": "84VKIcCEaMxm"
      },
      "outputs": [],
      "source": [
        "logreg_param_grid = {             \n",
        "    #LogisticRegressionCV - http://scikit-learn.org/stable/modules/generated/sklearn.linear_model.LogisticRegressionCV.html#sklearn.linear_model.LogisticRegressionCV\n",
        "    'fit_intercept': [True, False], #default: True\n",
        "    'C': [70, 80, 90, 100, 110, 120],\n",
        "    'penalty': ['l2'],\n",
        "    'class_weight': ['balanced', None],\n",
        "    'solver': ['liblinear'], #default: lbfgs\n",
        "    }\n",
        "\n",
        "linsvc_param_grid = {\n",
        "    'C': [.05, .10, .15, .20], \n",
        "    'class_weight': ['balanced', None], \n",
        "    'dual': [True], \n",
        "    'fit_intercept': [False, True], \n",
        "    'loss': ['hinge', 'squared_hinge'], \n",
        "}\n",
        "\n",
        "paa_param_grid = {\n",
        "    'C': [.05, .10, .15, .20], \n",
        "    'shuffle': [False, True],\n",
        "    'fit_intercept': [False, True], \n",
        "    'class_weight': ['balanced', None],\n",
        "}\n",
        "\n",
        "models_params = {\n",
        "    'Logistic Regression': [model_logreg, logreg_param_grid],\n",
        "    'Linear SVC': [model_linsvc, linsvc_param_grid],\n",
        "    'Passive Agressive': [model_paa, paa_param_grid]\n",
        "    }"
      ]
    },
    {
      "cell_type": "code",
      "execution_count": 43,
      "metadata": {
        "colab": {
          "base_uri": "https://localhost:8080/"
        },
        "id": "pZ3pE45cPgYj",
        "outputId": "1a9540b7-0ccf-4972-86fa-8cc12e0757d5"
      },
      "outputs": [
        {
          "name": "stdout",
          "output_type": "stream",
          "text": [
            "Logistic Regression Grid search starting\n",
            "Best accuracy:  0.9905\n",
            "Best precision:  0.9091\n",
            "Best recall:  0.8117\n",
            "Best parameters:  LogisticRegression(C=70, class_weight='balanced', fit_intercept=False,\n",
            "                   solver='liblinear') \n",
            "\n",
            "Linear SVC Grid search starting\n",
            "Best accuracy:  0.9831\n",
            "Best precision:  0.8504\n",
            "Best recall:  0.7072\n",
            "Best parameters:  LinearSVC(C=0.1, class_weight='balanced', fit_intercept=False, loss='hinge') \n",
            "\n",
            "Passive Agressive Grid search starting\n",
            "Best accuracy:  0.9905\n",
            "Best precision:  0.9133\n",
            "Best recall:  0.8065\n",
            "Best parameters:  PassiveAggressiveClassifier(C=0.1, class_weight='balanced', fit_intercept=False) \n",
            "\n"
          ]
        }
      ],
      "source": [
        "best_parameters = {}\n",
        "best_score = {}\n",
        "\n",
        "scoring = {'accuracy' : make_scorer(accuracy_score), \n",
        "           'precision' : make_scorer(precision_score),\n",
        "           'recall' : make_scorer(recall_score), \n",
        "           'f1_score' : make_scorer(f1_score)}\n",
        "\n",
        "for name, [model, param] in models_params.items():\n",
        "    print(f'{name} Grid search starting')\n",
        "    search = GridSearchCV(model, \n",
        "                          param, \n",
        "                          cv=kf, \n",
        "                          # scoring='recall',\n",
        "                          scoring=scoring,\n",
        "                          refit='recall', \n",
        "                          n_jobs=-1, \n",
        "                          verbose=0).fit(X_train, y_train)\n",
        "    best_parameters[name] = search.best_estimator_\n",
        "    best_score[name] = search.best_score_\n",
        "    print('Best accuracy: ', round(search.cv_results_['mean_test_accuracy'].mean(),4))\n",
        "    print('Best precision: ', round(search.cv_results_['mean_test_precision'].mean(),4))\n",
        "    print('Best recall: ', round(search.cv_results_['mean_test_recall'].mean(),4))\n",
        "    print('Best parameters: ', best_parameters[name], '\\n')"
      ]
    },
    {
      "cell_type": "markdown",
      "metadata": {
        "id": "-qs-sNeorgXE"
      },
      "source": [
        "Then the same cross-validation approach as before is performed, but this time with the parameters that make the model perform the best. In addition, PR curve and bar plots are also produced."
      ]
    },
    {
      "cell_type": "code",
      "execution_count": 38,
      "metadata": {
        "id": "caFgelPeq7lx"
      },
      "outputs": [],
      "source": [
        "model_logreg_tuned = LogisticRegression(C=110, class_weight='balanced', fit_intercept=False, penalty='l2', dual=True, solver='liblinear') \n",
        "model_linsvc_tuned = LinearSVC(C=0.2, class_weight='balanced', fit_intercept=False, loss='hinge', random_state=0) \n",
        "model_paa_tuned = PassiveAggressiveClassifier(C=0.25, class_weight='balanced', fit_intercept=False, random_state=0)\n",
        "\n",
        "models = {\n",
        "    'Logistic Regression': model_logreg_tuned,\n",
        "    'Linear SVM': model_linsvc_tuned,\n",
        "    'Passive Agressive': model_paa_tuned\n",
        "    }\n",
        "\n",
        "kf = KFold(n_splits=10, shuffle=True, random_state=42)"
      ]
    },
    {
      "cell_type": "code",
      "execution_count": 39,
      "metadata": {
        "colab": {
          "base_uri": "https://localhost:8080/"
        },
        "id": "Z_GY_WRZq7ly",
        "outputId": "9b3ad3aa-79e3-4332-ae85-5db5dd36d589"
      },
      "outputs": [
        {
          "name": "stdout",
          "output_type": "stream",
          "text": [
            "Tuned Logistic Regression results:\n",
            "Accuracy:  0.99\n",
            "Precision:  0.8579\n",
            "Recall:  0.8537\n",
            "F1_score:  0.8553 \n",
            "\n",
            "Tuned Linear SVM results:\n",
            "Accuracy:  0.9846\n",
            "Precision:  0.7294\n",
            "Recall:  0.887\n",
            "F1_score:  0.8001 \n",
            "\n",
            "Tuned Passive Agressive results:\n",
            "Accuracy:  0.9896\n",
            "Precision:  0.8635\n",
            "Recall:  0.8325\n",
            "F1_score:  0.8474 \n",
            "\n"
          ]
        }
      ],
      "source": [
        "acc = {}\n",
        "prec = {}\n",
        "rec = {}\n",
        "f1 = {}\n",
        "\n",
        "for name, model in models.items():\n",
        "    print(f\"Tuned {name} results:\")\n",
        "    score = cross_validate(model, X_train, y_train, scoring=scoring, cv=kf, n_jobs=-1, verbose=0)\n",
        "    print(\"Accuracy: \", round(score['test_accuracy'].mean(),4))\n",
        "    print(\"Precision: \", round(score['test_precision'].mean(),4))\n",
        "    print(\"Recall: \", round(score['test_recall'].mean(),4))\n",
        "    print(\"F1_score: \", round(score['test_f1_score'].mean(),4), '\\n')\n",
        "\n",
        "    acc[name] = score['test_accuracy'].mean()\n",
        "    prec[name] = score['test_precision'].mean()\n",
        "    rec[name] = score['test_recall'].mean()\n",
        "    f1[name] = score['test_f1_score'].mean()"
      ]
    },
    {
      "cell_type": "code",
      "execution_count": 26,
      "metadata": {
        "colab": {
          "base_uri": "https://localhost:8080/",
          "height": 443
        },
        "id": "dCq9cha3-L6a",
        "outputId": "09c05798-bbaf-4f8d-cb8e-4b42b45d3b49"
      },
      "outputs": [
        {
          "name": "stderr",
          "output_type": "stream",
          "text": [
            "/usr/local/lib/python3.8/dist-packages/sklearn/utils/deprecation.py:87: FutureWarning: Function plot_precision_recall_curve is deprecated; Function `plot_precision_recall_curve` is deprecated in 1.0 and will be removed in 1.2. Use one of the class methods: PrecisionRecallDisplay.from_predictions or PrecisionRecallDisplay.from_estimator.\n",
            "  warnings.warn(msg, category=FutureWarning)\n",
            "/usr/local/lib/python3.8/dist-packages/sklearn/utils/deprecation.py:87: FutureWarning: Function plot_precision_recall_curve is deprecated; Function `plot_precision_recall_curve` is deprecated in 1.0 and will be removed in 1.2. Use one of the class methods: PrecisionRecallDisplay.from_predictions or PrecisionRecallDisplay.from_estimator.\n",
            "  warnings.warn(msg, category=FutureWarning)\n",
            "/usr/local/lib/python3.8/dist-packages/sklearn/utils/deprecation.py:87: FutureWarning: Function plot_precision_recall_curve is deprecated; Function `plot_precision_recall_curve` is deprecated in 1.0 and will be removed in 1.2. Use one of the class methods: PrecisionRecallDisplay.from_predictions or PrecisionRecallDisplay.from_estimator.\n",
            "  warnings.warn(msg, category=FutureWarning)\n"
          ]
        },
        {
          "data": {
            "text/plain": [
              "Text(0.5, 1.0, 'Precision-Recall curve')"
            ]
          },
          "execution_count": 26,
          "metadata": {},
          "output_type": "execute_result"
        },
        {
          "data": {
            "image/png": "[encoded data removed]",
            "text/plain": [
              "<Figure size 432x288 with 1 Axes>"
            ]
          },
          "metadata": {
            "needs_background": "light"
          },
          "output_type": "display_data"
        }
      ],
      "source": [
        "model_logreg.fit(X_train, y_train), model_linsvc.fit(X_train, y_train), model_paa.fit(X_train, y_train)\n",
        "\n",
        "plot_precision_recall_curve(model_logreg, X_test, y_test, ax = plt.gca(),name = \"Log Regression\")\n",
        "plot_precision_recall_curve(model_linsvc, X_test, y_test, ax = plt.gca(),name = \"Linear SVM\")\n",
        "plot_precision_recall_curve(model_paa, X_test, y_test, ax = plt.gca(),name = \"PAS\")\n",
        "plt.savefig('PR-TunedCurve.png', dpi=600) \n",
        "plt.title('Precision-Recall curve')"
      ]
    },
    {
      "cell_type": "code",
      "execution_count": 27,
      "metadata": {
        "colab": {
          "base_uri": "https://localhost:8080/",
          "height": 1000
        },
        "id": "1t-gbWOiq7ly",
        "outputId": "4b0a2f2e-bfb2-4f09-f390-d4cd2cdde611"
      },
      "outputs": [
        {
          "data": {
            "image/png": "[encoded data removed]",
            "text/plain": [
              "<Figure size 576x288 with 1 Axes>"
            ]
          },
          "metadata": {
            "needs_background": "light"
          },
          "output_type": "display_data"
        },
        {
          "data": {
            "image/png": "[encoded data removed]",
            "text/plain": [
              "<Figure size 576x288 with 1 Axes>"
            ]
          },
          "metadata": {
            "needs_background": "light"
          },
          "output_type": "display_data"
        },
        {
          "data": {
            "image/png": "[encoded data removed]",
            "text/plain": [
              "<Figure size 576x288 with 1 Axes>"
            ]
          },
          "metadata": {
            "needs_background": "light"
          },
          "output_type": "display_data"
        },
        {
          "data": {
            "image/png": "[encoded data removed]",
            "text/plain": [
              "<Figure size 576x288 with 1 Axes>"
            ]
          },
          "metadata": {
            "needs_background": "light"
          },
          "output_type": "display_data"
        }
      ],
      "source": [
        "plt.figure(figsize=(8,4), tight_layout=True)\n",
        "colors = sns.color_palette('Accent')\n",
        "\n",
        "plt.barh(list(acc.keys()), list(acc.values()), color=colors[3:16])\n",
        "plt.title(\"Tuned Cross-validated Accuracy\")\n",
        "plt.xlabel('Accuracy')\n",
        "plt.xticks(np.arange(0, 1.1, .1))\n",
        "plt.savefig('TunedCV-Accuracy.png', dpi=600) \n",
        "plt.show()\n",
        "\n",
        "plt.figure(figsize=(8,4), tight_layout=True)\n",
        "plt.barh(list(prec.keys()), list(prec.values()), color=colors[3:16])\n",
        "plt.title(\"Tuned Cross-validated Precision\")\n",
        "plt.xlabel('Precision')\n",
        "plt.xticks(np.arange(0, 1.1, .1))\n",
        "plt.savefig('TunedCV-Precision.png', dpi=600) \n",
        "plt.show()\n",
        "\n",
        "plt.figure(figsize=(8,4), tight_layout=True)\n",
        "plt.barh(list(rec.keys()), list(rec.values()), color=colors[3:16])\n",
        "plt.title(\"Tuned Cross-validated Recall\")\n",
        "plt.xlabel('Recall')\n",
        "plt.xticks(np.arange(0, 1.1, .1))\n",
        "plt.savefig('TunedCV-Recall.png', dpi=600) \n",
        "plt.show()\n",
        "\n",
        "plt.figure(figsize=(8,4), tight_layout=True)\n",
        "plt.barh(list(f1.keys()), list(f1.values()), color=colors[3:16])\n",
        "plt.title(\"Tuned Cross-validated F1-score\")\n",
        "plt.xlabel('F1-score')\n",
        "plt.xticks(np.arange(0, 1.1, .1))\n",
        "plt.savefig('TunedCV-F1.png', dpi=600) \n",
        "plt.show()"
      ]
    },
    {
      "cell_type": "markdown",
      "metadata": {
        "id": "XZZ-9nYJX31k"
      },
      "source": [
        "Testing the model on the test set, to see how it performs on unseen data."
      ]
    },
    {
      "cell_type": "code",
      "execution_count": 44,
      "metadata": {
        "colab": {
          "base_uri": "https://localhost:8080/",
          "height": 1000
        },
        "id": "nq1uJn9NX4gk",
        "outputId": "b442b06c-0a37-4b7d-f80f-a663a7124f2d"
      },
      "outputs": [
        {
          "name": "stderr",
          "output_type": "stream",
          "text": [
            "/usr/local/lib/python3.8/dist-packages/sklearn/svm/_base.py:1206: ConvergenceWarning: Liblinear failed to converge, increase the number of iterations.\n",
            "  warnings.warn(\n",
            "/usr/local/lib/python3.8/dist-packages/sklearn/utils/deprecation.py:87: FutureWarning: Function plot_confusion_matrix is deprecated; Function `plot_confusion_matrix` is deprecated in 1.0 and will be removed in 1.2. Use one of the class methods: ConfusionMatrixDisplay.from_predictions or ConfusionMatrixDisplay.from_estimator.\n",
            "  warnings.warn(msg, category=FutureWarning)\n"
          ]
        },
        {
          "name": "stdout",
          "output_type": "stream",
          "text": [
            "Logistic Regression model results:\n",
            "              precision    recall  f1-score   support\n",
            "\n",
            "           0     0.9941    0.9955    0.9948     19307\n",
            "           1     0.8701    0.8352    0.8523       698\n",
            "\n",
            "    accuracy                         0.9899     20005\n",
            "   macro avg     0.9321    0.9154    0.9236     20005\n",
            "weighted avg     0.9897    0.9899    0.9898     20005\n",
            "\n",
            "\n",
            "\n",
            "Passive Aggressive model results:\n",
            "              precision    recall  f1-score   support\n",
            "\n",
            "           0     0.9931    0.9963    0.9947     19307\n",
            "           1     0.8868    0.8080    0.8456       698\n",
            "\n",
            "    accuracy                         0.9897     20005\n",
            "   macro avg     0.9399    0.9021    0.9201     20005\n",
            "weighted avg     0.9894    0.9897    0.9895     20005\n",
            "\n",
            "\n",
            "\n"
          ]
        },
        {
          "name": "stderr",
          "output_type": "stream",
          "text": [
            "/usr/local/lib/python3.8/dist-packages/sklearn/utils/deprecation.py:87: FutureWarning: Function plot_confusion_matrix is deprecated; Function `plot_confusion_matrix` is deprecated in 1.0 and will be removed in 1.2. Use one of the class methods: ConfusionMatrixDisplay.from_predictions or ConfusionMatrixDisplay.from_estimator.\n",
            "  warnings.warn(msg, category=FutureWarning)\n"
          ]
        },
        {
          "name": "stdout",
          "output_type": "stream",
          "text": [
            "Linear SVM model results:\n",
            "              precision    recall  f1-score   support\n",
            "\n",
            "           0     0.9957    0.9886    0.9921     19307\n",
            "           1     0.7356    0.8811    0.8018       698\n",
            "\n",
            "    accuracy                         0.9848     20005\n",
            "   macro avg     0.8657    0.9348    0.8970     20005\n",
            "weighted avg     0.9866    0.9848    0.9855     20005\n",
            "\n",
            "\n",
            "\n"
          ]
        },
        {
          "name": "stderr",
          "output_type": "stream",
          "text": [
            "/usr/local/lib/python3.8/dist-packages/sklearn/utils/deprecation.py:87: FutureWarning: Function plot_confusion_matrix is deprecated; Function `plot_confusion_matrix` is deprecated in 1.0 and will be removed in 1.2. Use one of the class methods: ConfusionMatrixDisplay.from_predictions or ConfusionMatrixDisplay.from_estimator.\n",
            "  warnings.warn(msg, category=FutureWarning)\n"
          ]
        },
        {
          "data": {
            "image/png": "[encoded data removed]",
            "text/plain": [
              "<Figure size 432x288 with 2 Axes>"
            ]
          },
          "metadata": {
            "needs_background": "light"
          },
          "output_type": "display_data"
        },
        {
          "data": {
            "image/png": "[encoded data removed]",
            "text/plain": [
              "<Figure size 432x288 with 2 Axes>"
            ]
          },
          "metadata": {
            "needs_background": "light"
          },
          "output_type": "display_data"
        },
        {
          "data": {
            "image/png": "[encoded data removed]",
            "text/plain": [
              "<Figure size 432x288 with 2 Axes>"
            ]
          },
          "metadata": {
            "needs_background": "light"
          },
          "output_type": "display_data"
        }
      ],
      "source": [
        "clf = LogisticRegression(C=110, class_weight='balanced', fit_intercept=False, penalty='l2', dual=True, solver='liblinear') \n",
        "clf2 = PassiveAggressiveClassifier(C=0.25, class_weight='balanced', fit_intercept=False, random_state=0)\n",
        "clf3 = LinearSVC(C=0.2, class_weight='balanced', fit_intercept=False, loss='hinge', random_state=0) \n",
        "\n",
        "clf.fit(X_train, y_train)\n",
        "y_pred = clf.predict(X_test)\n",
        "print('Logistic Regression model results:')\n",
        "print(classification_report(y_test, y_pred, digits = 4))\n",
        "plot_confusion_matrix(clf, X_test, y_test, cmap='PuBu')\n",
        "print('\\n')\n",
        "\n",
        "clf2.fit(X_train, y_train)\n",
        "y_pred2 = clf2.predict(X_test)\n",
        "print('Passive Aggressive model results:')\n",
        "print(classification_report(y_test, y_pred2, digits = 4))\n",
        "plot_confusion_matrix(clf2, X_test, y_test, cmap='PuBu')\n",
        "print('\\n')\n",
        "\n",
        "clf3.fit(X_train, y_train)\n",
        "y_pred3 = clf3.predict(X_test)\n",
        "print('Linear SVM model results:')\n",
        "plot_confusion_matrix(clf3, X_test, y_test, cmap='PuBu')\n",
        "print(classification_report(y_test, y_pred3, digits = 4))\n",
        "print('\\n')"
      ]
    },
    {
      "cell_type": "markdown",
      "metadata": {
        "id": "21coJbGtc9Rj"
      },
      "source": [
        "As a final approach to control the precision/recall threshold, an analysis on the effects of thresholds going from .1 to .9 is done, to see how this metrics are affected"
      ]
    },
    {
      "cell_type": "code",
      "execution_count": 39,
      "metadata": {
        "colab": {
          "base_uri": "https://localhost:8080/"
        },
        "id": "9Obofm4bAORa",
        "outputId": "76c7784e-39dc-4a5d-98b3-679e43c8a9fe"
      },
      "outputs": [
        {
          "name": "stderr",
          "output_type": "stream",
          "text": [
            "/usr/local/lib/python3.8/dist-packages/sklearn/svm/_base.py:1206: ConvergenceWarning: Liblinear failed to converge, increase the number of iterations.\n",
            "  warnings.warn(\n"
          ]
        },
        {
          "name": "stdout",
          "output_type": "stream",
          "text": [
            "Threshold: 0.1\n",
            "Recall = 0.9412842306849232\n",
            "Precision = 0.8001469979609553 \n",
            "\n",
            "Threshold: 0.2\n",
            "Recall = 0.9351230747106436\n",
            "Precision = 0.8589377777190143 \n",
            "\n",
            "Threshold: 0.3\n",
            "Recall = 0.9274940810843582\n",
            "Precision = 0.8865621592605639 \n",
            "\n",
            "Threshold: 0.4\n",
            "Recall = 0.9222642647981796\n",
            "Precision = 0.9103774571392019 \n",
            "\n",
            "Threshold: 0.5\n",
            "Recall = 0.9153687076691605\n",
            "Precision = 0.9321007453037373 \n",
            "\n",
            "Threshold: 0.6\n",
            "Recall = 0.9094914578096666\n",
            "Precision = 0.945937792982781 \n",
            "\n",
            "Threshold: 0.7\n",
            "Recall = 0.9041751562708005\n",
            "Precision = 0.9567587852258099 \n",
            "\n",
            "Threshold: 0.8\n",
            "Recall = 0.8967357549401964\n",
            "Precision = 0.9690606092136365 \n",
            "\n",
            "Threshold: 0.9\n",
            "Recall = 0.8797768539492261\n",
            "Precision = 0.9749490388418403 \n",
            "\n"
          ]
        }
      ],
      "source": [
        "def custom_predict(X_train, threshold):\n",
        "    probs = clf.predict_proba(X_test) \n",
        "    return (probs[:, 1] > threshold).astype(int)\n",
        "    \n",
        "clf = LogisticRegression(C=110, class_weight='balanced', fit_intercept=False, penalty='l2', dual=True, solver='liblinear') \n",
        "clf.fit(X_train, y_train)\n",
        "\n",
        "rec = []\n",
        "prec = []\n",
        "\n",
        "for i in range(1,10):\n",
        "  y_pred = custom_predict(X_test, threshold=i/10) \n",
        "  print('Threshold:', i/10)\n",
        "  print('Recall =', recall_score(y_test, y_pred, average='macro'))\n",
        "  print('Precision =', precision_score(y_test, y_pred, average='macro'), '\\n')\n",
        "\n",
        "  rec.append(recall_score(y_test, y_pred, average='macro'))\n",
        "  prec.append(precision_score(y_test, y_pred, average='macro'))"
      ]
    },
    {
      "cell_type": "code",
      "execution_count": 62,
      "metadata": {
        "colab": {
          "base_uri": "https://localhost:8080/",
          "height": 297
        },
        "id": "lQC7Od7mfqvx",
        "outputId": "9a472f5d-3a7a-4404-f91b-3dc0535ec77d"
      },
      "outputs": [
        {
          "data": {
            "image/png": "[encoded data removed]",
            "text/plain": [
              "<Figure size 432x288 with 1 Axes>"
            ]
          },
          "metadata": {
            "needs_background": "light"
          },
          "output_type": "display_data"
        }
      ],
      "source": [
        "plt.figure(tight_layout=True)\n",
        "plt.plot(range(1,len(rec)+1), rec, marker='o', label='recall',)\n",
        "plt.plot(range(1,len(prec)+1), prec, marker='o', label='precision',)\n",
        "plt.title(\"Precision/Recall Trade-off\")\n",
        "plt.xticks(np.arange(1, 10, 1))\n",
        "plt.ylabel('Score (Precision/Recall)')\n",
        "plt.xlabel('Threshold')\n",
        "plt.legend(loc='lower right')\n",
        "plt.savefig('PrecRec-Tradeoff.png', dpi=600) \n",
        "plt.show()"
      ]
    },
    {
      "cell_type": "markdown",
      "metadata": {
        "id": "v7wT_UqSxoV3"
      },
      "source": [
        "BERT"
      ]
    },
    {
      "cell_type": "code",
      "execution_count": 4,
      "metadata": {
        "colab": {
          "base_uri": "https://localhost:8080/"
        },
        "id": "mKWtxvckxorV",
        "outputId": "dc36916e-4b88-47ba-d3f1-a52fecea86f1"
      },
      "outputs": [
        {
          "name": "stdout",
          "output_type": "stream",
          "text": [
            "Looking in indexes: https://pypi.org/simple, https://us-python.pkg.dev/colab-wheels/public/simple/\n",
            "Collecting transformers\n",
            "  Downloading transformers-4.25.1-py3-none-any.whl (5.8 MB)\n",
            "\u001b[K     |████████████████████████████████| 5.8 MB 30.9 MB/s \n",
            "\u001b[?25hRequirement already satisfied: regex!=2019.12.17 in /usr/local/lib/python3.8/dist-packages (from transformers) (2022.6.2)\n",
            "Collecting tokenizers!=0.11.3,<0.14,>=0.11.1\n",
            "  Downloading tokenizers-0.13.2-cp38-cp38-manylinux_2_17_x86_64.manylinux2014_x86_64.whl (7.6 MB)\n",
            "\u001b[K     |████████████████████████████████| 7.6 MB 60.6 MB/s \n",
            "\u001b[?25hRequirement already satisfied: filelock in /usr/local/lib/python3.8/dist-packages (from transformers) (3.8.0)\n",
            "Requirement already satisfied: packaging>=20.0 in /usr/local/lib/python3.8/dist-packages (from transformers) (21.3)\n",
            "Requirement already satisfied: numpy>=1.17 in /usr/local/lib/python3.8/dist-packages (from transformers) (1.21.6)\n",
            "Requirement already satisfied: requests in /usr/local/lib/python3.8/dist-packages (from transformers) (2.23.0)\n",
            "Requirement already satisfied: pyyaml>=5.1 in /usr/local/lib/python3.8/dist-packages (from transformers) (6.0)\n",
            "Requirement already satisfied: tqdm>=4.27 in /usr/local/lib/python3.8/dist-packages (from transformers) (4.64.1)\n",
            "Collecting huggingface-hub<1.0,>=0.10.0\n",
            "  Downloading huggingface_hub-0.11.1-py3-none-any.whl (182 kB)\n",
            "\u001b[K     |████████████████████████████████| 182 kB 81.0 MB/s \n",
            "\u001b[?25hRequirement already satisfied: typing-extensions>=3.7.4.3 in /usr/local/lib/python3.8/dist-packages (from huggingface-hub<1.0,>=0.10.0->transformers) (4.4.0)\n",
            "Requirement already satisfied: pyparsing!=3.0.5,>=2.0.2 in /usr/local/lib/python3.8/dist-packages (from packaging>=20.0->transformers) (3.0.9)\n",
            "Requirement already satisfied: urllib3!=1.25.0,!=1.25.1,<1.26,>=1.21.1 in /usr/local/lib/python3.8/dist-packages (from requests->transformers) (1.24.3)\n",
            "Requirement already satisfied: idna<3,>=2.5 in /usr/local/lib/python3.8/dist-packages (from requests->transformers) (2.10)\n",
            "Requirement already satisfied: certifi>=2017.4.17 in /usr/local/lib/python3.8/dist-packages (from requests->transformers) (2022.9.24)\n",
            "Requirement already satisfied: chardet<4,>=3.0.2 in /usr/local/lib/python3.8/dist-packages (from requests->transformers) (3.0.4)\n",
            "Installing collected packages: tokenizers, huggingface-hub, transformers\n",
            "Successfully installed huggingface-hub-0.11.1 tokenizers-0.13.2 transformers-4.25.1\n"
          ]
        }
      ],
      "source": [
        "!pip install transformers\n",
        "from tensorflow.keras.models import Model, Sequential\n",
        "from tensorflow.keras.layers import Dense, Dropout, Flatten, Conv2D, MaxPooling2D,Input\n",
        "from tensorflow.keras.callbacks import EarlyStopping\n",
        "from tensorflow.python.ops.numpy_ops import np_utils\n",
        "\n",
        "import tensorflow as tf\n",
        "from tensorflow.keras.optimizers import Adam\n",
        "from transformers import BertModel, BertTokenizer, TFBertModel, AutoTokenizer\n",
        "from mlxtend.plotting import plot_confusion_matrix"
      ]
    },
    {
      "cell_type": "code",
      "execution_count": 5,
      "metadata": {
        "colab": {
          "base_uri": "https://localhost:8080/",
          "height": 256,
          "referenced_widgets": [
            "e42e7a69feea4014aedfef62412928b4",
            "edd4039aaa15421d89905991c16094d5",
            "25a12cec60cc47568c3bddb7bf2ce557",
            "42e3f5e9bc3341f5814672de33c411dd",
            "7f7ba22c9bd8413d82fa5cd49f100b53",
            "a7e0b77860904e6f99426475c9774367",
            "717123195f494a8c8fca10c6d7310274",
            "6afee8d329b3463d9c5486a4feae1f34",
            "365819f96e68479ca9e3a5c0c30b569a",
            "bcb828e4c5744801b56b2e7cdd329a46",
            "50932fe83c7e4080bb0de19bc2d221be",
            "9b790cbfe1894b18954241e8c8336f15",
            "3ca3173cf7e7488d8fbd11fba2047b09",
            "360404557e8f44228da80de2677f71f0",
            "bb6b31f89cc9471281d3459d7a569a10",
            "4c5a7504bb2d4c29a2cb948855bbdfad",
            "77496eb88a534c9098a8e15abda7a172",
            "3fc1e402a4a9465cb21322d0abb3cd0f",
            "b4b4eaf965ed45f6adc943af0a361ae7",
            "a0ac28821d24417591961beb81627458",
            "9cf12ffc417841afb7e2a86c0efb464d",
            "14d466fdf4254d15a63e6ed3713bfda0",
            "4b3246878908413694d8f93b1808de8e",
            "bfafe2b2ed33416db22f56e3977b9a90",
            "d39c80ef44d244448448efb5abf4014e",
            "24ffb023c32b41eb8aa5905bfd9aeb65",
            "bc9c506b26604b8581bc8514ff9f6861",
            "ee0f880c25674b019fd860067d453b63",
            "735d9bfb1f16497ba734ae89b07cd9be",
            "284d173e2a184e359f53e5caa6875b50",
            "15f8875a106a4dbda9780ac8932a6282",
            "1f609e0939464f8eba200d19619d9ca4",
            "01150bc5e916404485b27c23a0f5027f",
            "0e96351787aa45dcb70dcf47e3562a75",
            "2135147ed8ee4521828b140323bd5831",
            "4a3a5c8673654365858bb6240357581f",
            "c9b7f43acb5848f5a78410e6abae6688",
            "a8dc7fb440174090bba368ba8c936bd8",
            "fc5cf5e0ae5b4456af00336f771902bb",
            "bdc87525d5744943b4dfd6a5375edcb8",
            "1d6d841bac0d4f8b8feb3c485e2ec11e",
            "d88b1124a86b44a5835e9e189cd46d05",
            "3f6c0abc8eac46ebb01f3280168a84ef",
            "7ea6f32e7d7b46d087169ab963e3f664"
          ]
        },
        "id": "47b611fa-7041-4dc0-9fcc-3d98cb118bbf",
        "outputId": "93cdc866-aa9c-477a-dc4c-54a1b7ddf5e0"
      },
      "outputs": [
        {
          "data": {
            "application/vnd.jupyter.widget-view+json": {
              "model_id": "e42e7a69feea4014aedfef62412928b4",
              "version_major": 2,
              "version_minor": 0
            },
            "text/plain": [
              "Downloading:   0%|          | 0.00/570 [00:00<?, ?B/s]"
            ]
          },
          "metadata": {},
          "output_type": "display_data"
        },
        {
          "data": {
            "application/vnd.jupyter.widget-view+json": {
              "model_id": "9b790cbfe1894b18954241e8c8336f15",
              "version_major": 2,
              "version_minor": 0
            },
            "text/plain": [
              "Downloading:   0%|          | 0.00/440M [00:00<?, ?B/s]"
            ]
          },
          "metadata": {},
          "output_type": "display_data"
        },
        {
          "name": "stderr",
          "output_type": "stream",
          "text": [
            "Some weights of the PyTorch model were not used when initializing the TF 2.0 model TFBertModel: ['cls.predictions.transform.LayerNorm.weight', 'cls.seq_relationship.bias', 'cls.seq_relationship.weight', 'cls.predictions.transform.LayerNorm.bias', 'cls.predictions.transform.dense.weight', 'cls.predictions.bias', 'cls.predictions.transform.dense.bias', 'cls.predictions.decoder.weight']\n",
            "- This IS expected if you are initializing TFBertModel from a PyTorch model trained on another task or with another architecture (e.g. initializing a TFBertForSequenceClassification model from a BertForPreTraining model).\n",
            "- This IS NOT expected if you are initializing TFBertModel from a PyTorch model that you expect to be exactly identical (e.g. initializing a TFBertForSequenceClassification model from a BertForSequenceClassification model).\n",
            "All the weights of TFBertModel were initialized from the PyTorch model.\n",
            "If your task is similar to the task the model of the checkpoint was trained on, you can already use TFBertModel for predictions without further training.\n"
          ]
        },
        {
          "data": {
            "application/vnd.jupyter.widget-view+json": {
              "model_id": "4b3246878908413694d8f93b1808de8e",
              "version_major": 2,
              "version_minor": 0
            },
            "text/plain": [
              "Downloading:   0%|          | 0.00/232k [00:00<?, ?B/s]"
            ]
          },
          "metadata": {},
          "output_type": "display_data"
        },
        {
          "data": {
            "application/vnd.jupyter.widget-view+json": {
              "model_id": "0e96351787aa45dcb70dcf47e3562a75",
              "version_major": 2,
              "version_minor": 0
            },
            "text/plain": [
              "Downloading:   0%|          | 0.00/28.0 [00:00<?, ?B/s]"
            ]
          },
          "metadata": {},
          "output_type": "display_data"
        }
      ],
      "source": [
        "# Initializing bert model and tokenizer\n",
        "# bert_model = TFBertModel.from_pretrained('prajjwal1/bert-tin', from_pt=True)\n",
        "# bert_tokenizer = BertTokenizer.from_pretrained(\"prajjwal1/bert-tiny\")\n",
        "\n",
        "bert_model = TFBertModel.from_pretrained('bert-base-uncased', from_pt=True)\n",
        "bert_tokenizer = BertTokenizer.from_pretrained('bert-base-uncased')\n",
        "\n",
        "def tokenize(X):\n",
        "    \n",
        "    X = bert_tokenizer(\n",
        "        text = list(X),\n",
        "        add_special_tokens = True,\n",
        "        max_length = 100,\n",
        "        truncation = True,\n",
        "        padding = 'max_length',\n",
        "        return_tensors = 'tf',\n",
        "        return_token_type_ids = False,\n",
        "        return_attention_mask = True,\n",
        "        verbose = True\n",
        "        )\n",
        "    return X\n",
        "\n",
        "# Function to create model\n",
        "maxlen=100\n",
        "def create_model():\n",
        "    dropout_rate=0.2\n",
        "    input_ids=Input(shape=(maxlen,),dtype=tf.int32)\n",
        "    input_mask=Input(shape=(maxlen,),dtype=tf.int32)\n",
        "    bert_layer=bert_model([input_ids,input_mask])[1]\n",
        "    x=Dropout(0.5)(bert_layer)\n",
        "    x=Dense(64,activation=\"tanh\")(x)\n",
        "    x=Dropout(0.2)(x)\n",
        "    x=Dense(1,activation=\"sigmoid\")(x)\n",
        "    model = Model(inputs=[input_ids, input_mask], outputs=x)\n",
        "    return model"
      ]
    },
    {
      "cell_type": "code",
      "execution_count": 6,
      "metadata": {
        "colab": {
          "base_uri": "https://localhost:8080/"
        },
        "id": "1aee4a0a-a596-488e-8b95-80cba0633ca2",
        "outputId": "39dce1be-d001-4b77-cae8-ec80e862c667"
      },
      "outputs": [
        {
          "data": {
            "text/plain": [
              "{'input_ids': <tf.Tensor: shape=(46676, 100), dtype=int32, numpy=\n",
              "array([[  101,  2065,  1996, ...,     0,     0,     0],\n",
              "       [  101,  3449,  5495, ...,     0,     0,     0],\n",
              "       [  101,  1996,  2231, ...,     0,     0,     0],\n",
              "       ...,\n",
              "       [  101, 26839, 18720, ...,     0,     0,     0],\n",
              "       [  101,  7758,  4067, ...,     0,     0,     0],\n",
              "       [  101,  9871,  8390, ...,     0,     0,     0]], dtype=int32)>, 'attention_mask': <tf.Tensor: shape=(46676, 100), dtype=int32, numpy=\n",
              "array([[1, 1, 1, ..., 0, 0, 0],\n",
              "       [1, 1, 1, ..., 0, 0, 0],\n",
              "       [1, 1, 1, ..., 0, 0, 0],\n",
              "       ...,\n",
              "       [1, 1, 1, ..., 0, 0, 0],\n",
              "       [1, 1, 1, ..., 0, 0, 0],\n",
              "       [1, 1, 1, ..., 0, 0, 0]], dtype=int32)>}"
            ]
          },
          "execution_count": 6,
          "metadata": {},
          "output_type": "execute_result"
        }
      ],
      "source": [
        "X = data['content']\n",
        "y = data['fake']\n",
        "\n",
        "X_train, X_test, y_train, y_test = train_test_split(X, y, stratify=y, test_size=0.3,random_state=0)\n",
        "\n",
        "# Applying tokenizing to train and test news\n",
        "X_train = tokenize(X_train)\n",
        "X_test = tokenize(X_test)\n",
        "\n",
        "X_train"
      ]
    },
    {
      "cell_type": "code",
      "execution_count": 7,
      "metadata": {
        "colab": {
          "base_uri": "https://localhost:8080/"
        },
        "id": "674909d6-284a-43e0-8654-4f8ffc4257ff",
        "outputId": "27de7470-2ca0-410f-de24-120315006642"
      },
      "outputs": [
        {
          "name": "stdout",
          "output_type": "stream",
          "text": [
            "Model: \"model\"\n",
            "__________________________________________________________________________________________________\n",
            " Layer (type)                   Output Shape         Param #     Connected to                     \n",
            "==================================================================================================\n",
            " input_1 (InputLayer)           [(None, 100)]        0           []                               \n",
            "                                                                                                  \n",
            " input_2 (InputLayer)           [(None, 100)]        0           []                               \n",
            "                                                                                                  \n",
            " tf_bert_model (TFBertModel)    TFBaseModelOutputWi  109482240   ['input_1[0][0]',                \n",
            "                                thPoolingAndCrossAt               'input_2[0][0]']                \n",
            "                                tentions(last_hidde                                               \n",
            "                                n_state=(None, 100,                                               \n",
            "                                 768),                                                            \n",
            "                                 pooler_output=(Non                                               \n",
            "                                e, 768),                                                          \n",
            "                                 past_key_values=No                                               \n",
            "                                ne, hidden_states=N                                               \n",
            "                                one, attentions=Non                                               \n",
            "                                e, cross_attentions                                               \n",
            "                                =None)                                                            \n",
            "                                                                                                  \n",
            " dropout_37 (Dropout)           (None, 768)          0           ['tf_bert_model[0][1]']          \n",
            "                                                                                                  \n",
            " dense (Dense)                  (None, 64)           49216       ['dropout_37[0][0]']             \n",
            "                                                                                                  \n",
            " dropout_38 (Dropout)           (None, 64)           0           ['dense[0][0]']                  \n",
            "                                                                                                  \n",
            " dense_1 (Dense)                (None, 1)            65          ['dropout_38[0][0]']             \n",
            "                                                                                                  \n",
            "==================================================================================================\n",
            "Total params: 109,531,521\n",
            "Trainable params: 109,531,521\n",
            "Non-trainable params: 0\n",
            "__________________________________________________________________________________________________\n"
          ]
        }
      ],
      "source": [
        "# Creating BERT model, based on pre-trained model\n",
        "model=create_model()\n",
        "\n",
        "# Specifiying which optimizer to use for the NN\n",
        "optimizer = Adam(learning_rate=1e-05, \n",
        "                 epsilon=1e-08, \n",
        "                 decay=0.01,\n",
        "                 clipnorm=1.0)\n",
        "\n",
        "# Compiling modle with chosen optimizer and metrics\n",
        "model.compile(optimizer = optimizer, \n",
        "              loss = 'binary_crossentropy', \n",
        "              metrics = 'accuracy')\n",
        "\n",
        "model.summary()"
      ]
    },
    {
      "cell_type": "code",
      "execution_count": 8,
      "metadata": {
        "id": "90075543-3261-46fa-88c8-f47636cd7009"
      },
      "outputs": [],
      "source": [
        "# Callback function\n",
        "callback = tf.keras.callbacks.EarlyStopping(monitor='val_loss', \n",
        "                                            mode='max', \n",
        "                                            verbose=1, \n",
        "                                            patience=50,\n",
        "                                            baseline=0.4,\n",
        "                                            min_delta=0.0001,\n",
        "                                            restore_best_weights=False)"
      ]
    },
    {
      "cell_type": "code",
      "execution_count": 9,
      "metadata": {
        "colab": {
          "base_uri": "https://localhost:8080/"
        },
        "id": "53e7c77b-7dc0-4d0b-bcc2-397331d61fd7",
        "outputId": "a4aee9f8-93b6-4866-be08-fc62df8f2a52"
      },
      "outputs": [
        {
          "name": "stdout",
          "output_type": "stream",
          "text": [
            "Epoch 1/8\n",
            "1362/1362 [==============================] - 786s 561ms/step - loss: 0.1223 - accuracy: 0.9642 - val_loss: 0.0861 - val_accuracy: 0.9650\n",
            "Epoch 2/8\n",
            "1362/1362 [==============================] - 771s 566ms/step - loss: 0.0904 - accuracy: 0.9665 - val_loss: 0.0734 - val_accuracy: 0.9689\n",
            "Epoch 3/8\n",
            "1362/1362 [==============================] - 772s 567ms/step - loss: 0.0804 - accuracy: 0.9687 - val_loss: 0.0694 - val_accuracy: 0.9739\n",
            "Epoch 4/8\n",
            "1362/1362 [==============================] - 773s 567ms/step - loss: 0.0753 - accuracy: 0.9705 - val_loss: 0.0636 - val_accuracy: 0.9773\n",
            "Epoch 5/8\n",
            "1362/1362 [==============================] - 773s 568ms/step - loss: 0.0714 - accuracy: 0.9715 - val_loss: 0.0611 - val_accuracy: 0.9785\n",
            "Epoch 6/8\n",
            "1362/1362 [==============================] - 776s 570ms/step - loss: 0.0694 - accuracy: 0.9730 - val_loss: 0.0593 - val_accuracy: 0.9794\n",
            "Epoch 7/8\n",
            "1362/1362 [==============================] - 775s 569ms/step - loss: 0.0654 - accuracy: 0.9744 - val_loss: 0.0583 - val_accuracy: 0.9799\n",
            "Epoch 8/8\n",
            "1362/1362 [==============================] - 775s 569ms/step - loss: 0.0649 - accuracy: 0.9750 - val_loss: 0.0561 - val_accuracy: 0.9809\n"
          ]
        }
      ],
      "source": [
        "# Training NN\n",
        "history = model.fit(x = {'input_1':X_train['input_ids'],\n",
        "                         'input_2':X_train['attention_mask']}, \n",
        "                         y = y_train, \n",
        "                         epochs=8, \n",
        "                         validation_split = 0.3, \n",
        "                         batch_size = 24, \n",
        "                         callbacks=[callback])"
      ]
    },
    {
      "cell_type": "code",
      "execution_count": null,
      "metadata": {
        "colab": {
          "base_uri": "https://localhost:8080/",
          "height": 295
        },
        "id": "rTPPMfK3D5b1",
        "outputId": "eb79aedc-9070-4cbf-d8c6-038f76c66eaa"
      },
      "outputs": [
        {
          "data": {
            "image/png": "[encoded data removed]",
            "text/plain": [
              "<Figure size 432x288 with 1 Axes>"
            ]
          },
          "metadata": {
            "needs_background": "light"
          },
          "output_type": "display_data"
        }
      ],
      "source": [
        "plt.plot(history.history['accuracy'])\n",
        "plt.plot(history.history['val_accuracy'])\n",
        "plt.title('model accuracy')\n",
        "plt.ylabel('accuracy')\n",
        "plt.xlabel('epoch')\n",
        "plt.legend(['train', 'test'], loc='upper left')\n",
        "plt.savefig('BERT-Accuracy.png', dpi=600) \n",
        "plt.show()"
      ]
    },
    {
      "cell_type": "code",
      "execution_count": null,
      "metadata": {
        "colab": {
          "base_uri": "https://localhost:8080/",
          "height": 295
        },
        "id": "QwtJs06vD5b1",
        "outputId": "52843141-7496-45a9-8142-c24d1ca2e099"
      },
      "outputs": [
        {
          "data": {
            "image/png": "[encoded data removed]",
            "text/plain": [
              "<Figure size 432x288 with 1 Axes>"
            ]
          },
          "metadata": {
            "needs_background": "light"
          },
          "output_type": "display_data"
        }
      ],
      "source": [
        "plt.plot(history.history['loss'])\n",
        "plt.plot(history.history['val_loss'])\n",
        "plt.title('model loss')\n",
        "plt.ylabel('loss')\n",
        "plt.xlabel('epoch')\n",
        "plt.legend(['train', 'test'], loc='upper right')\n",
        "plt.savefig('BERT-Loss.png', dpi=600) \n",
        "plt.show()"
      ]
    },
    {
      "cell_type": "code",
      "execution_count": null,
      "metadata": {
        "colab": {
          "base_uri": "https://localhost:8080/"
        },
        "id": "eb3a9a73-6308-4a57-b399-ddbad1efd144",
        "outputId": "667db912-5829-4f14-edab-2609fe258447"
      },
      "outputs": [
        {
          "name": "stdout",
          "output_type": "stream",
          "text": [
            "626/626 [==============================] - 137s 214ms/step\n"
          ]
        }
      ],
      "source": [
        "y_pred = np.where(model.predict({ 'input_1' : X_test['input_ids'], \n",
        "                                 'input_2' : X_test['attention_mask']}) >0.5,1,0)"
      ]
    },
    {
      "cell_type": "code",
      "execution_count": null,
      "metadata": {
        "colab": {
          "base_uri": "https://localhost:8080/"
        },
        "id": "d703c944-ba69-4e97-bcec-bfa2c84789cd",
        "outputId": "a0e6d713-fed6-47c2-fff5-05a30b7e1309"
      },
      "outputs": [
        {
          "name": "stdout",
          "output_type": "stream",
          "text": [
            "              precision    recall  f1-score   support\n",
            "\n",
            "           0       0.99      0.99      0.99     19307\n",
            "           1       0.76      0.71      0.73       698\n",
            "\n",
            "    accuracy                           0.98     20005\n",
            "   macro avg       0.88      0.85      0.86     20005\n",
            "weighted avg       0.98      0.98      0.98     20005\n",
            "\n"
          ]
        }
      ],
      "source": [
        "print(classification_report(y_test,y_pred))"
      ]
    },
    {
      "cell_type": "code",
      "execution_count": null,
      "metadata": {
        "colab": {
          "base_uri": "https://localhost:8080/",
          "height": 318
        },
        "id": "6cLHB8zMD5b2",
        "outputId": "92f839de-6a44-4402-ab73-f05cc50e3453"
      },
      "outputs": [
        {
          "data": {
            "image/png": "[encoded data removed]",
            "text/plain": [
              "<Figure size 432x288 with 1 Axes>"
            ]
          },
          "metadata": {
            "needs_background": "light"
          },
          "output_type": "display_data"
        }
      ],
      "source": [
        "conf_matrix = confusion_matrix(y_test, y_pred)\n",
        "fig, ax = plot_confusion_matrix(conf_mat=conf_matrix, cmap='Dark2')\n",
        "plt.xlabel('Predictions', fontsize=18)\n",
        "plt.ylabel('Actuals', fontsize=18)\n",
        "plt.title('Confusion Matrix', fontsize=18)\n",
        "plt.show()"
      ]
    },
    {
      "cell_type": "code",
      "execution_count": null,
      "metadata": {
        "id": "f9962007-77c9-459f-b9f3-0447c71c345a"
      },
      "outputs": [],
      "source": [
        "# tf.keras.backend.clear_session()"
      ]
    }
  ],
  "metadata": {
    "colab": {
      "provenance": []
    },
    "gpuClass": "standard",
    "kernelspec": {
      "display_name": "Python 3",
      "name": "python3"
    },
    "language_info": {
      "name": "python"
    },
    "widgets": {
      "application/vnd.jupyter.widget-state+json": {
        "01150bc5e916404485b27c23a0f5027f": {
          "model_module": "@jupyter-widgets/controls",
          "model_module_version": "1.5.0",
          "model_name": "DescriptionStyleModel",
          "state": {
            "_model_module": "@jupyter-widgets/controls",
            "_model_module_version": "1.5.0",
            "_model_name": "DescriptionStyleModel",
            "_view_count": null,
            "_view_module": "@jupyter-widgets/base",
            "_view_module_version": "1.2.0",
            "_view_name": "StyleView",
            "description_width": ""
          }
        },
        "0e96351787aa45dcb70dcf47e3562a75": {
          "model_module": "@jupyter-widgets/controls",
          "model_module_version": "1.5.0",
          "model_name": "HBoxModel",
          "state": {
            "_dom_classes": [],
            "_model_module": "@jupyter-widgets/controls",
            "_model_module_version": "1.5.0",
            "_model_name": "HBoxModel",
            "_view_count": null,
            "_view_module": "@jupyter-widgets/controls",
            "_view_module_version": "1.5.0",
            "_view_name": "HBoxView",
            "box_style": "",
            "children": [
              "IPY_MODEL_2135147ed8ee4521828b140323bd5831",
              "IPY_MODEL_4a3a5c8673654365858bb6240357581f",
              "IPY_MODEL_c9b7f43acb5848f5a78410e6abae6688"
            ],
            "layout": "IPY_MODEL_a8dc7fb440174090bba368ba8c936bd8"
          }
        },
        "14d466fdf4254d15a63e6ed3713bfda0": {
          "model_module": "@jupyter-widgets/controls",
          "model_module_version": "1.5.0",
          "model_name": "DescriptionStyleModel",
          "state": {
            "_model_module": "@jupyter-widgets/controls",
            "_model_module_version": "1.5.0",
            "_model_name": "DescriptionStyleModel",
            "_view_count": null,
            "_view_module": "@jupyter-widgets/base",
            "_view_module_version": "1.2.0",
            "_view_name": "StyleView",
            "description_width": ""
          }
        },
        "15f8875a106a4dbda9780ac8932a6282": {
          "model_module": "@jupyter-widgets/controls",
          "model_module_version": "1.5.0",
          "model_name": "ProgressStyleModel",
          "state": {
            "_model_module": "@jupyter-widgets/controls",
            "_model_module_version": "1.5.0",
            "_model_name": "ProgressStyleModel",
            "_view_count": null,
            "_view_module": "@jupyter-widgets/base",
            "_view_module_version": "1.2.0",
            "_view_name": "StyleView",
            "bar_color": null,
            "description_width": ""
          }
        },
        "1d6d841bac0d4f8b8feb3c485e2ec11e": {
          "model_module": "@jupyter-widgets/base",
          "model_module_version": "1.2.0",
          "model_name": "LayoutModel",
          "state": {
            "_model_module": "@jupyter-widgets/base",
            "_model_module_version": "1.2.0",
            "_model_name": "LayoutModel",
            "_view_count": null,
            "_view_module": "@jupyter-widgets/base",
            "_view_module_version": "1.2.0",
            "_view_name": "LayoutView",
            "align_content": null,
            "align_items": null,
            "align_self": null,
            "border": null,
            "bottom": null,
            "display": null,
            "flex": null,
            "flex_flow": null,
            "grid_area": null,
            "grid_auto_columns": null,
            "grid_auto_flow": null,
            "grid_auto_rows": null,
            "grid_column": null,
            "grid_gap": null,
            "grid_row": null,
            "grid_template_areas": null,
            "grid_template_columns": null,
            "grid_template_rows": null,
            "height": null,
            "justify_content": null,
            "justify_items": null,
            "left": null,
            "margin": null,
            "max_height": null,
            "max_width": null,
            "min_height": null,
            "min_width": null,
            "object_fit": null,
            "object_position": null,
            "order": null,
            "overflow": null,
            "overflow_x": null,
            "overflow_y": null,
            "padding": null,
            "right": null,
            "top": null,
            "visibility": null,
            "width": null
          }
        },
        "1f609e0939464f8eba200d19619d9ca4": {
          "model_module": "@jupyter-widgets/base",
          "model_module_version": "1.2.0",
          "model_name": "LayoutModel",
          "state": {
            "_model_module": "@jupyter-widgets/base",
            "_model_module_version": "1.2.0",
            "_model_name": "LayoutModel",
            "_view_count": null,
            "_view_module": "@jupyter-widgets/base",
            "_view_module_version": "1.2.0",
            "_view_name": "LayoutView",
            "align_content": null,
            "align_items": null,
            "align_self": null,
            "border": null,
            "bottom": null,
            "display": null,
            "flex": null,
            "flex_flow": null,
            "grid_area": null,
            "grid_auto_columns": null,
            "grid_auto_flow": null,
            "grid_auto_rows": null,
            "grid_column": null,
            "grid_gap": null,
            "grid_row": null,
            "grid_template_areas": null,
            "grid_template_columns": null,
            "grid_template_rows": null,
            "height": null,
            "justify_content": null,
            "justify_items": null,
            "left": null,
            "margin": null,
            "max_height": null,
            "max_width": null,
            "min_height": null,
            "min_width": null,
            "object_fit": null,
            "object_position": null,
            "order": null,
            "overflow": null,
            "overflow_x": null,
            "overflow_y": null,
            "padding": null,
            "right": null,
            "top": null,
            "visibility": null,
            "width": null
          }
        },
        "2135147ed8ee4521828b140323bd5831": {
          "model_module": "@jupyter-widgets/controls",
          "model_module_version": "1.5.0",
          "model_name": "HTMLModel",
          "state": {
            "_dom_classes": [],
            "_model_module": "@jupyter-widgets/controls",
            "_model_module_version": "1.5.0",
            "_model_name": "HTMLModel",
            "_view_count": null,
            "_view_module": "@jupyter-widgets/controls",
            "_view_module_version": "1.5.0",
            "_view_name": "HTMLView",
            "description": "",
            "description_tooltip": null,
            "layout": "IPY_MODEL_fc5cf5e0ae5b4456af00336f771902bb",
            "placeholder": "​",
            "style": "IPY_MODEL_bdc87525d5744943b4dfd6a5375edcb8",
            "value": "Downloading: 100%"
          }
        },
        "24ffb023c32b41eb8aa5905bfd9aeb65": {
          "model_module": "@jupyter-widgets/controls",
          "model_module_version": "1.5.0",
          "model_name": "HTMLModel",
          "state": {
            "_dom_classes": [],
            "_model_module": "@jupyter-widgets/controls",
            "_model_module_version": "1.5.0",
            "_model_name": "HTMLModel",
            "_view_count": null,
            "_view_module": "@jupyter-widgets/controls",
            "_view_module_version": "1.5.0",
            "_view_name": "HTMLView",
            "description": "",
            "description_tooltip": null,
            "layout": "IPY_MODEL_1f609e0939464f8eba200d19619d9ca4",
            "placeholder": "​",
            "style": "IPY_MODEL_01150bc5e916404485b27c23a0f5027f",
            "value": " 232k/232k [00:00&lt;00:00, 279kB/s]"
          }
        },
        "25a12cec60cc47568c3bddb7bf2ce557": {
          "model_module": "@jupyter-widgets/controls",
          "model_module_version": "1.5.0",
          "model_name": "FloatProgressModel",
          "state": {
            "_dom_classes": [],
            "_model_module": "@jupyter-widgets/controls",
            "_model_module_version": "1.5.0",
            "_model_name": "FloatProgressModel",
            "_view_count": null,
            "_view_module": "@jupyter-widgets/controls",
            "_view_module_version": "1.5.0",
            "_view_name": "ProgressView",
            "bar_style": "success",
            "description": "",
            "description_tooltip": null,
            "layout": "IPY_MODEL_6afee8d329b3463d9c5486a4feae1f34",
            "max": 570,
            "min": 0,
            "orientation": "horizontal",
            "style": "IPY_MODEL_365819f96e68479ca9e3a5c0c30b569a",
            "value": 570
          }
        },
        "284d173e2a184e359f53e5caa6875b50": {
          "model_module": "@jupyter-widgets/base",
          "model_module_version": "1.2.0",
          "model_name": "LayoutModel",
          "state": {
            "_model_module": "@jupyter-widgets/base",
            "_model_module_version": "1.2.0",
            "_model_name": "LayoutModel",
            "_view_count": null,
            "_view_module": "@jupyter-widgets/base",
            "_view_module_version": "1.2.0",
            "_view_name": "LayoutView",
            "align_content": null,
            "align_items": null,
            "align_self": null,
            "border": null,
            "bottom": null,
            "display": null,
            "flex": null,
            "flex_flow": null,
            "grid_area": null,
            "grid_auto_columns": null,
            "grid_auto_flow": null,
            "grid_auto_rows": null,
            "grid_column": null,
            "grid_gap": null,
            "grid_row": null,
            "grid_template_areas": null,
            "grid_template_columns": null,
            "grid_template_rows": null,
            "height": null,
            "justify_content": null,
            "justify_items": null,
            "left": null,
            "margin": null,
            "max_height": null,
            "max_width": null,
            "min_height": null,
            "min_width": null,
            "object_fit": null,
            "object_position": null,
            "order": null,
            "overflow": null,
            "overflow_x": null,
            "overflow_y": null,
            "padding": null,
            "right": null,
            "top": null,
            "visibility": null,
            "width": null
          }
        },
        "360404557e8f44228da80de2677f71f0": {
          "model_module": "@jupyter-widgets/controls",
          "model_module_version": "1.5.0",
          "model_name": "FloatProgressModel",
          "state": {
            "_dom_classes": [],
            "_model_module": "@jupyter-widgets/controls",
            "_model_module_version": "1.5.0",
            "_model_name": "FloatProgressModel",
            "_view_count": null,
            "_view_module": "@jupyter-widgets/controls",
            "_view_module_version": "1.5.0",
            "_view_name": "ProgressView",
            "bar_style": "success",
            "description": "",
            "description_tooltip": null,
            "layout": "IPY_MODEL_b4b4eaf965ed45f6adc943af0a361ae7",
            "max": 440473133,
            "min": 0,
            "orientation": "horizontal",
            "style": "IPY_MODEL_a0ac28821d24417591961beb81627458",
            "value": 440473133
          }
        },
        "365819f96e68479ca9e3a5c0c30b569a": {
          "model_module": "@jupyter-widgets/controls",
          "model_module_version": "1.5.0",
          "model_name": "ProgressStyleModel",
          "state": {
            "_model_module": "@jupyter-widgets/controls",
            "_model_module_version": "1.5.0",
            "_model_name": "ProgressStyleModel",
            "_view_count": null,
            "_view_module": "@jupyter-widgets/base",
            "_view_module_version": "1.2.0",
            "_view_name": "StyleView",
            "bar_color": null,
            "description_width": ""
          }
        },
        "3ca3173cf7e7488d8fbd11fba2047b09": {
          "model_module": "@jupyter-widgets/controls",
          "model_module_version": "1.5.0",
          "model_name": "HTMLModel",
          "state": {
            "_dom_classes": [],
            "_model_module": "@jupyter-widgets/controls",
            "_model_module_version": "1.5.0",
            "_model_name": "HTMLModel",
            "_view_count": null,
            "_view_module": "@jupyter-widgets/controls",
            "_view_module_version": "1.5.0",
            "_view_name": "HTMLView",
            "description": "",
            "description_tooltip": null,
            "layout": "IPY_MODEL_77496eb88a534c9098a8e15abda7a172",
            "placeholder": "​",
            "style": "IPY_MODEL_3fc1e402a4a9465cb21322d0abb3cd0f",
            "value": "Downloading: 100%"
          }
        },
        "3f6c0abc8eac46ebb01f3280168a84ef": {
          "model_module": "@jupyter-widgets/base",
          "model_module_version": "1.2.0",
          "model_name": "LayoutModel",
          "state": {
            "_model_module": "@jupyter-widgets/base",
            "_model_module_version": "1.2.0",
            "_model_name": "LayoutModel",
            "_view_count": null,
            "_view_module": "@jupyter-widgets/base",
            "_view_module_version": "1.2.0",
            "_view_name": "LayoutView",
            "align_content": null,
            "align_items": null,
            "align_self": null,
            "border": null,
            "bottom": null,
            "display": null,
            "flex": null,
            "flex_flow": null,
            "grid_area": null,
            "grid_auto_columns": null,
            "grid_auto_flow": null,
            "grid_auto_rows": null,
            "grid_column": null,
            "grid_gap": null,
            "grid_row": null,
            "grid_template_areas": null,
            "grid_template_columns": null,
            "grid_template_rows": null,
            "height": null,
            "justify_content": null,
            "justify_items": null,
            "left": null,
            "margin": null,
            "max_height": null,
            "max_width": null,
            "min_height": null,
            "min_width": null,
            "object_fit": null,
            "object_position": null,
            "order": null,
            "overflow": null,
            "overflow_x": null,
            "overflow_y": null,
            "padding": null,
            "right": null,
            "top": null,
            "visibility": null,
            "width": null
          }
        },
        "3fc1e402a4a9465cb21322d0abb3cd0f": {
          "model_module": "@jupyter-widgets/controls",
          "model_module_version": "1.5.0",
          "model_name": "DescriptionStyleModel",
          "state": {
            "_model_module": "@jupyter-widgets/controls",
            "_model_module_version": "1.5.0",
            "_model_name": "DescriptionStyleModel",
            "_view_count": null,
            "_view_module": "@jupyter-widgets/base",
            "_view_module_version": "1.2.0",
            "_view_name": "StyleView",
            "description_width": ""
          }
        },
        "42e3f5e9bc3341f5814672de33c411dd": {
          "model_module": "@jupyter-widgets/controls",
          "model_module_version": "1.5.0",
          "model_name": "HTMLModel",
          "state": {
            "_dom_classes": [],
            "_model_module": "@jupyter-widgets/controls",
            "_model_module_version": "1.5.0",
            "_model_name": "HTMLModel",
            "_view_count": null,
            "_view_module": "@jupyter-widgets/controls",
            "_view_module_version": "1.5.0",
            "_view_name": "HTMLView",
            "description": "",
            "description_tooltip": null,
            "layout": "IPY_MODEL_bcb828e4c5744801b56b2e7cdd329a46",
            "placeholder": "​",
            "style": "IPY_MODEL_50932fe83c7e4080bb0de19bc2d221be",
            "value": " 570/570 [00:00&lt;00:00, 19.4kB/s]"
          }
        },
        "4a3a5c8673654365858bb6240357581f": {
          "model_module": "@jupyter-widgets/controls",
          "model_module_version": "1.5.0",
          "model_name": "FloatProgressModel",
          "state": {
            "_dom_classes": [],
            "_model_module": "@jupyter-widgets/controls",
            "_model_module_version": "1.5.0",
            "_model_name": "FloatProgressModel",
            "_view_count": null,
            "_view_module": "@jupyter-widgets/controls",
            "_view_module_version": "1.5.0",
            "_view_name": "ProgressView",
            "bar_style": "success",
            "description": "",
            "description_tooltip": null,
            "layout": "IPY_MODEL_1d6d841bac0d4f8b8feb3c485e2ec11e",
            "max": 28,
            "min": 0,
            "orientation": "horizontal",
            "style": "IPY_MODEL_d88b1124a86b44a5835e9e189cd46d05",
            "value": 28
          }
        },
        "4b3246878908413694d8f93b1808de8e": {
          "model_module": "@jupyter-widgets/controls",
          "model_module_version": "1.5.0",
          "model_name": "HBoxModel",
          "state": {
            "_dom_classes": [],
            "_model_module": "@jupyter-widgets/controls",
            "_model_module_version": "1.5.0",
            "_model_name": "HBoxModel",
            "_view_count": null,
            "_view_module": "@jupyter-widgets/controls",
            "_view_module_version": "1.5.0",
            "_view_name": "HBoxView",
            "box_style": "",
            "children": [
              "IPY_MODEL_bfafe2b2ed33416db22f56e3977b9a90",
              "IPY_MODEL_d39c80ef44d244448448efb5abf4014e",
              "IPY_MODEL_24ffb023c32b41eb8aa5905bfd9aeb65"
            ],
            "layout": "IPY_MODEL_bc9c506b26604b8581bc8514ff9f6861"
          }
        },
        "4c5a7504bb2d4c29a2cb948855bbdfad": {
          "model_module": "@jupyter-widgets/base",
          "model_module_version": "1.2.0",
          "model_name": "LayoutModel",
          "state": {
            "_model_module": "@jupyter-widgets/base",
            "_model_module_version": "1.2.0",
            "_model_name": "LayoutModel",
            "_view_count": null,
            "_view_module": "@jupyter-widgets/base",
            "_view_module_version": "1.2.0",
            "_view_name": "LayoutView",
            "align_content": null,
            "align_items": null,
            "align_self": null,
            "border": null,
            "bottom": null,
            "display": null,
            "flex": null,
            "flex_flow": null,
            "grid_area": null,
            "grid_auto_columns": null,
            "grid_auto_flow": null,
            "grid_auto_rows": null,
            "grid_column": null,
            "grid_gap": null,
            "grid_row": null,
            "grid_template_areas": null,
            "grid_template_columns": null,
            "grid_template_rows": null,
            "height": null,
            "justify_content": null,
            "justify_items": null,
            "left": null,
            "margin": null,
            "max_height": null,
            "max_width": null,
            "min_height": null,
            "min_width": null,
            "object_fit": null,
            "object_position": null,
            "order": null,
            "overflow": null,
            "overflow_x": null,
            "overflow_y": null,
            "padding": null,
            "right": null,
            "top": null,
            "visibility": null,
            "width": null
          }
        },
        "50932fe83c7e4080bb0de19bc2d221be": {
          "model_module": "@jupyter-widgets/controls",
          "model_module_version": "1.5.0",
          "model_name": "DescriptionStyleModel",
          "state": {
            "_model_module": "@jupyter-widgets/controls",
            "_model_module_version": "1.5.0",
            "_model_name": "DescriptionStyleModel",
            "_view_count": null,
            "_view_module": "@jupyter-widgets/base",
            "_view_module_version": "1.2.0",
            "_view_name": "StyleView",
            "description_width": ""
          }
        },
        "6afee8d329b3463d9c5486a4feae1f34": {
          "model_module": "@jupyter-widgets/base",
          "model_module_version": "1.2.0",
          "model_name": "LayoutModel",
          "state": {
            "_model_module": "@jupyter-widgets/base",
            "_model_module_version": "1.2.0",
            "_model_name": "LayoutModel",
            "_view_count": null,
            "_view_module": "@jupyter-widgets/base",
            "_view_module_version": "1.2.0",
            "_view_name": "LayoutView",
            "align_content": null,
            "align_items": null,
            "align_self": null,
            "border": null,
            "bottom": null,
            "display": null,
            "flex": null,
            "flex_flow": null,
            "grid_area": null,
            "grid_auto_columns": null,
            "grid_auto_flow": null,
            "grid_auto_rows": null,
            "grid_column": null,
            "grid_gap": null,
            "grid_row": null,
            "grid_template_areas": null,
            "grid_template_columns": null,
            "grid_template_rows": null,
            "height": null,
            "justify_content": null,
            "justify_items": null,
            "left": null,
            "margin": null,
            "max_height": null,
            "max_width": null,
            "min_height": null,
            "min_width": null,
            "object_fit": null,
            "object_position": null,
            "order": null,
            "overflow": null,
            "overflow_x": null,
            "overflow_y": null,
            "padding": null,
            "right": null,
            "top": null,
            "visibility": null,
            "width": null
          }
        },
        "717123195f494a8c8fca10c6d7310274": {
          "model_module": "@jupyter-widgets/controls",
          "model_module_version": "1.5.0",
          "model_name": "DescriptionStyleModel",
          "state": {
            "_model_module": "@jupyter-widgets/controls",
            "_model_module_version": "1.5.0",
            "_model_name": "DescriptionStyleModel",
            "_view_count": null,
            "_view_module": "@jupyter-widgets/base",
            "_view_module_version": "1.2.0",
            "_view_name": "StyleView",
            "description_width": ""
          }
        },
        "735d9bfb1f16497ba734ae89b07cd9be": {
          "model_module": "@jupyter-widgets/controls",
          "model_module_version": "1.5.0",
          "model_name": "DescriptionStyleModel",
          "state": {
            "_model_module": "@jupyter-widgets/controls",
            "_model_module_version": "1.5.0",
            "_model_name": "DescriptionStyleModel",
            "_view_count": null,
            "_view_module": "@jupyter-widgets/base",
            "_view_module_version": "1.2.0",
            "_view_name": "StyleView",
            "description_width": ""
          }
        },
        "77496eb88a534c9098a8e15abda7a172": {
          "model_module": "@jupyter-widgets/base",
          "model_module_version": "1.2.0",
          "model_name": "LayoutModel",
          "state": {
            "_model_module": "@jupyter-widgets/base",
            "_model_module_version": "1.2.0",
            "_model_name": "LayoutModel",
            "_view_count": null,
            "_view_module": "@jupyter-widgets/base",
            "_view_module_version": "1.2.0",
            "_view_name": "LayoutView",
            "align_content": null,
            "align_items": null,
            "align_self": null,
            "border": null,
            "bottom": null,
            "display": null,
            "flex": null,
            "flex_flow": null,
            "grid_area": null,
            "grid_auto_columns": null,
            "grid_auto_flow": null,
            "grid_auto_rows": null,
            "grid_column": null,
            "grid_gap": null,
            "grid_row": null,
            "grid_template_areas": null,
            "grid_template_columns": null,
            "grid_template_rows": null,
            "height": null,
            "justify_content": null,
            "justify_items": null,
            "left": null,
            "margin": null,
            "max_height": null,
            "max_width": null,
            "min_height": null,
            "min_width": null,
            "object_fit": null,
            "object_position": null,
            "order": null,
            "overflow": null,
            "overflow_x": null,
            "overflow_y": null,
            "padding": null,
            "right": null,
            "top": null,
            "visibility": null,
            "width": null
          }
        },
        "7ea6f32e7d7b46d087169ab963e3f664": {
          "model_module": "@jupyter-widgets/controls",
          "model_module_version": "1.5.0",
          "model_name": "DescriptionStyleModel",
          "state": {
            "_model_module": "@jupyter-widgets/controls",
            "_model_module_version": "1.5.0",
            "_model_name": "DescriptionStyleModel",
            "_view_count": null,
            "_view_module": "@jupyter-widgets/base",
            "_view_module_version": "1.2.0",
            "_view_name": "StyleView",
            "description_width": ""
          }
        },
        "7f7ba22c9bd8413d82fa5cd49f100b53": {
          "model_module": "@jupyter-widgets/base",
          "model_module_version": "1.2.0",
          "model_name": "LayoutModel",
          "state": {
            "_model_module": "@jupyter-widgets/base",
            "_model_module_version": "1.2.0",
            "_model_name": "LayoutModel",
            "_view_count": null,
            "_view_module": "@jupyter-widgets/base",
            "_view_module_version": "1.2.0",
            "_view_name": "LayoutView",
            "align_content": null,
            "align_items": null,
            "align_self": null,
            "border": null,
            "bottom": null,
            "display": null,
            "flex": null,
            "flex_flow": null,
            "grid_area": null,
            "grid_auto_columns": null,
            "grid_auto_flow": null,
            "grid_auto_rows": null,
            "grid_column": null,
            "grid_gap": null,
            "grid_row": null,
            "grid_template_areas": null,
            "grid_template_columns": null,
            "grid_template_rows": null,
            "height": null,
            "justify_content": null,
            "justify_items": null,
            "left": null,
            "margin": null,
            "max_height": null,
            "max_width": null,
            "min_height": null,
            "min_width": null,
            "object_fit": null,
            "object_position": null,
            "order": null,
            "overflow": null,
            "overflow_x": null,
            "overflow_y": null,
            "padding": null,
            "right": null,
            "top": null,
            "visibility": null,
            "width": null
          }
        },
        "9b790cbfe1894b18954241e8c8336f15": {
          "model_module": "@jupyter-widgets/controls",
          "model_module_version": "1.5.0",
          "model_name": "HBoxModel",
          "state": {
            "_dom_classes": [],
            "_model_module": "@jupyter-widgets/controls",
            "_model_module_version": "1.5.0",
            "_model_name": "HBoxModel",
            "_view_count": null,
            "_view_module": "@jupyter-widgets/controls",
            "_view_module_version": "1.5.0",
            "_view_name": "HBoxView",
            "box_style": "",
            "children": [
              "IPY_MODEL_3ca3173cf7e7488d8fbd11fba2047b09",
              "IPY_MODEL_360404557e8f44228da80de2677f71f0",
              "IPY_MODEL_bb6b31f89cc9471281d3459d7a569a10"
            ],
            "layout": "IPY_MODEL_4c5a7504bb2d4c29a2cb948855bbdfad"
          }
        },
        "9cf12ffc417841afb7e2a86c0efb464d": {
          "model_module": "@jupyter-widgets/base",
          "model_module_version": "1.2.0",
          "model_name": "LayoutModel",
          "state": {
            "_model_module": "@jupyter-widgets/base",
            "_model_module_version": "1.2.0",
            "_model_name": "LayoutModel",
            "_view_count": null,
            "_view_module": "@jupyter-widgets/base",
            "_view_module_version": "1.2.0",
            "_view_name": "LayoutView",
            "align_content": null,
            "align_items": null,
            "align_self": null,
            "border": null,
            "bottom": null,
            "display": null,
            "flex": null,
            "flex_flow": null,
            "grid_area": null,
            "grid_auto_columns": null,
            "grid_auto_flow": null,
            "grid_auto_rows": null,
            "grid_column": null,
            "grid_gap": null,
            "grid_row": null,
            "grid_template_areas": null,
            "grid_template_columns": null,
            "grid_template_rows": null,
            "height": null,
            "justify_content": null,
            "justify_items": null,
            "left": null,
            "margin": null,
            "max_height": null,
            "max_width": null,
            "min_height": null,
            "min_width": null,
            "object_fit": null,
            "object_position": null,
            "order": null,
            "overflow": null,
            "overflow_x": null,
            "overflow_y": null,
            "padding": null,
            "right": null,
            "top": null,
            "visibility": null,
            "width": null
          }
        },
        "a0ac28821d24417591961beb81627458": {
          "model_module": "@jupyter-widgets/controls",
          "model_module_version": "1.5.0",
          "model_name": "ProgressStyleModel",
          "state": {
            "_model_module": "@jupyter-widgets/controls",
            "_model_module_version": "1.5.0",
            "_model_name": "ProgressStyleModel",
            "_view_count": null,
            "_view_module": "@jupyter-widgets/base",
            "_view_module_version": "1.2.0",
            "_view_name": "StyleView",
            "bar_color": null,
            "description_width": ""
          }
        },
        "a7e0b77860904e6f99426475c9774367": {
          "model_module": "@jupyter-widgets/base",
          "model_module_version": "1.2.0",
          "model_name": "LayoutModel",
          "state": {
            "_model_module": "@jupyter-widgets/base",
            "_model_module_version": "1.2.0",
            "_model_name": "LayoutModel",
            "_view_count": null,
            "_view_module": "@jupyter-widgets/base",
            "_view_module_version": "1.2.0",
            "_view_name": "LayoutView",
            "align_content": null,
            "align_items": null,
            "align_self": null,
            "border": null,
            "bottom": null,
            "display": null,
            "flex": null,
            "flex_flow": null,
            "grid_area": null,
            "grid_auto_columns": null,
            "grid_auto_flow": null,
            "grid_auto_rows": null,
            "grid_column": null,
            "grid_gap": null,
            "grid_row": null,
            "grid_template_areas": null,
            "grid_template_columns": null,
            "grid_template_rows": null,
            "height": null,
            "justify_content": null,
            "justify_items": null,
            "left": null,
            "margin": null,
            "max_height": null,
            "max_width": null,
            "min_height": null,
            "min_width": null,
            "object_fit": null,
            "object_position": null,
            "order": null,
            "overflow": null,
            "overflow_x": null,
            "overflow_y": null,
            "padding": null,
            "right": null,
            "top": null,
            "visibility": null,
            "width": null
          }
        },
        "a8dc7fb440174090bba368ba8c936bd8": {
          "model_module": "@jupyter-widgets/base",
          "model_module_version": "1.2.0",
          "model_name": "LayoutModel",
          "state": {
            "_model_module": "@jupyter-widgets/base",
            "_model_module_version": "1.2.0",
            "_model_name": "LayoutModel",
            "_view_count": null,
            "_view_module": "@jupyter-widgets/base",
            "_view_module_version": "1.2.0",
            "_view_name": "LayoutView",
            "align_content": null,
            "align_items": null,
            "align_self": null,
            "border": null,
            "bottom": null,
            "display": null,
            "flex": null,
            "flex_flow": null,
            "grid_area": null,
            "grid_auto_columns": null,
            "grid_auto_flow": null,
            "grid_auto_rows": null,
            "grid_column": null,
            "grid_gap": null,
            "grid_row": null,
            "grid_template_areas": null,
            "grid_template_columns": null,
            "grid_template_rows": null,
            "height": null,
            "justify_content": null,
            "justify_items": null,
            "left": null,
            "margin": null,
            "max_height": null,
            "max_width": null,
            "min_height": null,
            "min_width": null,
            "object_fit": null,
            "object_position": null,
            "order": null,
            "overflow": null,
            "overflow_x": null,
            "overflow_y": null,
            "padding": null,
            "right": null,
            "top": null,
            "visibility": null,
            "width": null
          }
        },
        "b4b4eaf965ed45f6adc943af0a361ae7": {
          "model_module": "@jupyter-widgets/base",
          "model_module_version": "1.2.0",
          "model_name": "LayoutModel",
          "state": {
            "_model_module": "@jupyter-widgets/base",
            "_model_module_version": "1.2.0",
            "_model_name": "LayoutModel",
            "_view_count": null,
            "_view_module": "@jupyter-widgets/base",
            "_view_module_version": "1.2.0",
            "_view_name": "LayoutView",
            "align_content": null,
            "align_items": null,
            "align_self": null,
            "border": null,
            "bottom": null,
            "display": null,
            "flex": null,
            "flex_flow": null,
            "grid_area": null,
            "grid_auto_columns": null,
            "grid_auto_flow": null,
            "grid_auto_rows": null,
            "grid_column": null,
            "grid_gap": null,
            "grid_row": null,
            "grid_template_areas": null,
            "grid_template_columns": null,
            "grid_template_rows": null,
            "height": null,
            "justify_content": null,
            "justify_items": null,
            "left": null,
            "margin": null,
            "max_height": null,
            "max_width": null,
            "min_height": null,
            "min_width": null,
            "object_fit": null,
            "object_position": null,
            "order": null,
            "overflow": null,
            "overflow_x": null,
            "overflow_y": null,
            "padding": null,
            "right": null,
            "top": null,
            "visibility": null,
            "width": null
          }
        },
        "bb6b31f89cc9471281d3459d7a569a10": {
          "model_module": "@jupyter-widgets/controls",
          "model_module_version": "1.5.0",
          "model_name": "HTMLModel",
          "state": {
            "_dom_classes": [],
            "_model_module": "@jupyter-widgets/controls",
            "_model_module_version": "1.5.0",
            "_model_name": "HTMLModel",
            "_view_count": null,
            "_view_module": "@jupyter-widgets/controls",
            "_view_module_version": "1.5.0",
            "_view_name": "HTMLView",
            "description": "",
            "description_tooltip": null,
            "layout": "IPY_MODEL_9cf12ffc417841afb7e2a86c0efb464d",
            "placeholder": "​",
            "style": "IPY_MODEL_14d466fdf4254d15a63e6ed3713bfda0",
            "value": " 440M/440M [00:08&lt;00:00, 35.8MB/s]"
          }
        },
        "bc9c506b26604b8581bc8514ff9f6861": {
          "model_module": "@jupyter-widgets/base",
          "model_module_version": "1.2.0",
          "model_name": "LayoutModel",
          "state": {
            "_model_module": "@jupyter-widgets/base",
            "_model_module_version": "1.2.0",
            "_model_name": "LayoutModel",
            "_view_count": null,
            "_view_module": "@jupyter-widgets/base",
            "_view_module_version": "1.2.0",
            "_view_name": "LayoutView",
            "align_content": null,
            "align_items": null,
            "align_self": null,
            "border": null,
            "bottom": null,
            "display": null,
            "flex": null,
            "flex_flow": null,
            "grid_area": null,
            "grid_auto_columns": null,
            "grid_auto_flow": null,
            "grid_auto_rows": null,
            "grid_column": null,
            "grid_gap": null,
            "grid_row": null,
            "grid_template_areas": null,
            "grid_template_columns": null,
            "grid_template_rows": null,
            "height": null,
            "justify_content": null,
            "justify_items": null,
            "left": null,
            "margin": null,
            "max_height": null,
            "max_width": null,
            "min_height": null,
            "min_width": null,
            "object_fit": null,
            "object_position": null,
            "order": null,
            "overflow": null,
            "overflow_x": null,
            "overflow_y": null,
            "padding": null,
            "right": null,
            "top": null,
            "visibility": null,
            "width": null
          }
        },
        "bcb828e4c5744801b56b2e7cdd329a46": {
          "model_module": "@jupyter-widgets/base",
          "model_module_version": "1.2.0",
          "model_name": "LayoutModel",
          "state": {
            "_model_module": "@jupyter-widgets/base",
            "_model_module_version": "1.2.0",
            "_model_name": "LayoutModel",
            "_view_count": null,
            "_view_module": "@jupyter-widgets/base",
            "_view_module_version": "1.2.0",
            "_view_name": "LayoutView",
            "align_content": null,
            "align_items": null,
            "align_self": null,
            "border": null,
            "bottom": null,
            "display": null,
            "flex": null,
            "flex_flow": null,
            "grid_area": null,
            "grid_auto_columns": null,
            "grid_auto_flow": null,
            "grid_auto_rows": null,
            "grid_column": null,
            "grid_gap": null,
            "grid_row": null,
            "grid_template_areas": null,
            "grid_template_columns": null,
            "grid_template_rows": null,
            "height": null,
            "justify_content": null,
            "justify_items": null,
            "left": null,
            "margin": null,
            "max_height": null,
            "max_width": null,
            "min_height": null,
            "min_width": null,
            "object_fit": null,
            "object_position": null,
            "order": null,
            "overflow": null,
            "overflow_x": null,
            "overflow_y": null,
            "padding": null,
            "right": null,
            "top": null,
            "visibility": null,
            "width": null
          }
        },
        "bdc87525d5744943b4dfd6a5375edcb8": {
          "model_module": "@jupyter-widgets/controls",
          "model_module_version": "1.5.0",
          "model_name": "DescriptionStyleModel",
          "state": {
            "_model_module": "@jupyter-widgets/controls",
            "_model_module_version": "1.5.0",
            "_model_name": "DescriptionStyleModel",
            "_view_count": null,
            "_view_module": "@jupyter-widgets/base",
            "_view_module_version": "1.2.0",
            "_view_name": "StyleView",
            "description_width": ""
          }
        },
        "bfafe2b2ed33416db22f56e3977b9a90": {
          "model_module": "@jupyter-widgets/controls",
          "model_module_version": "1.5.0",
          "model_name": "HTMLModel",
          "state": {
            "_dom_classes": [],
            "_model_module": "@jupyter-widgets/controls",
            "_model_module_version": "1.5.0",
            "_model_name": "HTMLModel",
            "_view_count": null,
            "_view_module": "@jupyter-widgets/controls",
            "_view_module_version": "1.5.0",
            "_view_name": "HTMLView",
            "description": "",
            "description_tooltip": null,
            "layout": "IPY_MODEL_ee0f880c25674b019fd860067d453b63",
            "placeholder": "​",
            "style": "IPY_MODEL_735d9bfb1f16497ba734ae89b07cd9be",
            "value": "Downloading: 100%"
          }
        },
        "c9b7f43acb5848f5a78410e6abae6688": {
          "model_module": "@jupyter-widgets/controls",
          "model_module_version": "1.5.0",
          "model_name": "HTMLModel",
          "state": {
            "_dom_classes": [],
            "_model_module": "@jupyter-widgets/controls",
            "_model_module_version": "1.5.0",
            "_model_name": "HTMLModel",
            "_view_count": null,
            "_view_module": "@jupyter-widgets/controls",
            "_view_module_version": "1.5.0",
            "_view_name": "HTMLView",
            "description": "",
            "description_tooltip": null,
            "layout": "IPY_MODEL_3f6c0abc8eac46ebb01f3280168a84ef",
            "placeholder": "​",
            "style": "IPY_MODEL_7ea6f32e7d7b46d087169ab963e3f664",
            "value": " 28.0/28.0 [00:00&lt;00:00, 308B/s]"
          }
        },
        "d39c80ef44d244448448efb5abf4014e": {
          "model_module": "@jupyter-widgets/controls",
          "model_module_version": "1.5.0",
          "model_name": "FloatProgressModel",
          "state": {
            "_dom_classes": [],
            "_model_module": "@jupyter-widgets/controls",
            "_model_module_version": "1.5.0",
            "_model_name": "FloatProgressModel",
            "_view_count": null,
            "_view_module": "@jupyter-widgets/controls",
            "_view_module_version": "1.5.0",
            "_view_name": "ProgressView",
            "bar_style": "success",
            "description": "",
            "description_tooltip": null,
            "layout": "IPY_MODEL_284d173e2a184e359f53e5caa6875b50",
            "max": 231508,
            "min": 0,
            "orientation": "horizontal",
            "style": "IPY_MODEL_15f8875a106a4dbda9780ac8932a6282",
            "value": 231508
          }
        },
        "d88b1124a86b44a5835e9e189cd46d05": {
          "model_module": "@jupyter-widgets/controls",
          "model_module_version": "1.5.0",
          "model_name": "ProgressStyleModel",
          "state": {
            "_model_module": "@jupyter-widgets/controls",
            "_model_module_version": "1.5.0",
            "_model_name": "ProgressStyleModel",
            "_view_count": null,
            "_view_module": "@jupyter-widgets/base",
            "_view_module_version": "1.2.0",
            "_view_name": "StyleView",
            "bar_color": null,
            "description_width": ""
          }
        },
        "e42e7a69feea4014aedfef62412928b4": {
          "model_module": "@jupyter-widgets/controls",
          "model_module_version": "1.5.0",
          "model_name": "HBoxModel",
          "state": {
            "_dom_classes": [],
            "_model_module": "@jupyter-widgets/controls",
            "_model_module_version": "1.5.0",
            "_model_name": "HBoxModel",
            "_view_count": null,
            "_view_module": "@jupyter-widgets/controls",
            "_view_module_version": "1.5.0",
            "_view_name": "HBoxView",
            "box_style": "",
            "children": [
              "IPY_MODEL_edd4039aaa15421d89905991c16094d5",
              "IPY_MODEL_25a12cec60cc47568c3bddb7bf2ce557",
              "IPY_MODEL_42e3f5e9bc3341f5814672de33c411dd"
            ],
            "layout": "IPY_MODEL_7f7ba22c9bd8413d82fa5cd49f100b53"
          }
        },
        "edd4039aaa15421d89905991c16094d5": {
          "model_module": "@jupyter-widgets/controls",
          "model_module_version": "1.5.0",
          "model_name": "HTMLModel",
          "state": {
            "_dom_classes": [],
            "_model_module": "@jupyter-widgets/controls",
            "_model_module_version": "1.5.0",
            "_model_name": "HTMLModel",
            "_view_count": null,
            "_view_module": "@jupyter-widgets/controls",
            "_view_module_version": "1.5.0",
            "_view_name": "HTMLView",
            "description": "",
            "description_tooltip": null,
            "layout": "IPY_MODEL_a7e0b77860904e6f99426475c9774367",
            "placeholder": "​",
            "style": "IPY_MODEL_717123195f494a8c8fca10c6d7310274",
            "value": "Downloading: 100%"
          }
        },
        "ee0f880c25674b019fd860067d453b63": {
          "model_module": "@jupyter-widgets/base",
          "model_module_version": "1.2.0",
          "model_name": "LayoutModel",
          "state": {
            "_model_module": "@jupyter-widgets/base",
            "_model_module_version": "1.2.0",
            "_model_name": "LayoutModel",
            "_view_count": null,
            "_view_module": "@jupyter-widgets/base",
            "_view_module_version": "1.2.0",
            "_view_name": "LayoutView",
            "align_content": null,
            "align_items": null,
            "align_self": null,
            "border": null,
            "bottom": null,
            "display": null,
            "flex": null,
            "flex_flow": null,
            "grid_area": null,
            "grid_auto_columns": null,
            "grid_auto_flow": null,
            "grid_auto_rows": null,
            "grid_column": null,
            "grid_gap": null,
            "grid_row": null,
            "grid_template_areas": null,
            "grid_template_columns": null,
            "grid_template_rows": null,
            "height": null,
            "justify_content": null,
            "justify_items": null,
            "left": null,
            "margin": null,
            "max_height": null,
            "max_width": null,
            "min_height": null,
            "min_width": null,
            "object_fit": null,
            "object_position": null,
            "order": null,
            "overflow": null,
            "overflow_x": null,
            "overflow_y": null,
            "padding": null,
            "right": null,
            "top": null,
            "visibility": null,
            "width": null
          }
        },
        "fc5cf5e0ae5b4456af00336f771902bb": {
          "model_module": "@jupyter-widgets/base",
          "model_module_version": "1.2.0",
          "model_name": "LayoutModel",
          "state": {
            "_model_module": "@jupyter-widgets/base",
            "_model_module_version": "1.2.0",
            "_model_name": "LayoutModel",
            "_view_count": null,
            "_view_module": "@jupyter-widgets/base",
            "_view_module_version": "1.2.0",
            "_view_name": "LayoutView",
            "align_content": null,
            "align_items": null,
            "align_self": null,
            "border": null,
            "bottom": null,
            "display": null,
            "flex": null,
            "flex_flow": null,
            "grid_area": null,
            "grid_auto_columns": null,
            "grid_auto_flow": null,
            "grid_auto_rows": null,
            "grid_column": null,
            "grid_gap": null,
            "grid_row": null,
            "grid_template_areas": null,
            "grid_template_columns": null,
            "grid_template_rows": null,
            "height": null,
            "justify_content": null,
            "justify_items": null,
            "left": null,
            "margin": null,
            "max_height": null,
            "max_width": null,
            "min_height": null,
            "min_width": null,
            "object_fit": null,
            "object_position": null,
            "order": null,
            "overflow": null,
            "overflow_x": null,
            "overflow_y": null,
            "padding": null,
            "right": null,
            "top": null,
            "visibility": null,
            "width": null
          }
        }
      }
    }
  },
  "nbformat": 4,
  "nbformat_minor": 0
}
